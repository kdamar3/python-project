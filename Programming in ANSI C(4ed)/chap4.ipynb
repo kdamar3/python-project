{
 "metadata": {
  "name": ""
 },
 "nbformat": 3,
 "nbformat_minor": 0,
 "worksheets": [
  {
   "cells": [
    {
     "cell_type": "heading",
     "level": 1,
     "metadata": {},
     "source": [
      "CHAPTER4 - MANAGING INPUT AND OUTPUT OPERATIONS - 13 EXAMPLES\n"
     ]
    },
    {
     "cell_type": "heading",
     "level": 2,
     "metadata": {},
     "source": [
      "Example 4.1, page 85"
     ]
    },
    {
     "cell_type": "code",
     "collapsed": false,
     "input": [
      "i=0\n",
      "while i<2:\n",
      "    print \"\\n Would you like to know my name?\"\n",
      "    answer=raw_input(\"Type Y for YES and N for NO :  \")\n",
      "    if(answer=='Y'or answer=='y'):\n",
      "        print \"My name is BUSY BEE\"\n",
      "    else:\n",
      "        print \"you are good for nothing\"\n",
      "    i=i+1\n",
      "    "
     ],
     "language": "python",
     "metadata": {},
     "outputs": [
      {
       "output_type": "stream",
       "stream": "stdout",
       "text": [
        "\n",
        " Would you like to know my name?\n"
       ]
      },
      {
       "name": "stdout",
       "output_type": "stream",
       "stream": "stdout",
       "text": [
        "Type Y for YES and N for NO :  Y\n"
       ]
      },
      {
       "output_type": "stream",
       "stream": "stdout",
       "text": [
        "My name is BUSY BEE\n",
        "\n",
        " Would you like to know my name?\n"
       ]
      },
      {
       "name": "stdout",
       "output_type": "stream",
       "stream": "stdout",
       "text": [
        "Type Y for YES and N for NO :  n\n"
       ]
      },
      {
       "output_type": "stream",
       "stream": "stdout",
       "text": [
        "you are good for nothing\n"
       ]
      }
     ],
     "prompt_number": 1
    },
    {
     "cell_type": "heading",
     "level": 2,
     "metadata": {},
     "source": [
      "Example 4.2, page 87"
     ]
    },
    {
     "cell_type": "code",
     "collapsed": false,
     "input": [
      "import string\n",
      "i=0\n",
      "while i<3:\n",
      "    char=raw_input(\"Press any key \\n\")\n",
      "    if(char.isalpha()>0):\n",
      "        print \"The character is a letter.\"\n",
      "    else:\n",
      "        if(char.isdigit()>0):\n",
      "            print \"The character is a digit.\"\n",
      "        else:\n",
      "            print \"the character is not alphanumeric.\"            \n",
      "        \n",
      "    i=i+1"
     ],
     "language": "python",
     "metadata": {},
     "outputs": [
      {
       "name": "stdout",
       "output_type": "stream",
       "stream": "stdout",
       "text": [
        "Press any key \n",
        "h\n"
       ]
      },
      {
       "output_type": "stream",
       "stream": "stdout",
       "text": [
        "The character is a letter.\n"
       ]
      },
      {
       "name": "stdout",
       "output_type": "stream",
       "stream": "stdout",
       "text": [
        "Press any key \n",
        "5\n"
       ]
      },
      {
       "output_type": "stream",
       "stream": "stdout",
       "text": [
        "The character is a digit.\n"
       ]
      },
      {
       "name": "stdout",
       "output_type": "stream",
       "stream": "stdout",
       "text": [
        "Press any key \n",
        "*\n"
       ]
      },
      {
       "output_type": "stream",
       "stream": "stdout",
       "text": [
        "the character is not alphanumeric.\n"
       ]
      }
     ],
     "prompt_number": 3
    },
    {
     "cell_type": "heading",
     "level": 2,
     "metadata": {},
     "source": [
      "Example 4.3, page 88"
     ]
    },
    {
     "cell_type": "code",
     "collapsed": false,
     "input": [
      "import string\n",
      "i=0\n",
      "while i<3:\n",
      "    char=raw_input(\"Enter an alphabet \\n\")\n",
      "    if(char.islower()):\n",
      "        c1=char.upper()\n",
      "        print \"%s\" %c1\n",
      "    else:\n",
      "        c1=char.lower()\n",
      "        print \"%s\" %c1\n",
      "    i=i+1\n"
     ],
     "language": "python",
     "metadata": {},
     "outputs": [
      {
       "name": "stdout",
       "output_type": "stream",
       "stream": "stdout",
       "text": [
        "Enter an alphabet \n",
        "a\n"
       ]
      },
      {
       "output_type": "stream",
       "stream": "stdout",
       "text": [
        "A\n"
       ]
      },
      {
       "name": "stdout",
       "output_type": "stream",
       "stream": "stdout",
       "text": [
        "Enter an alphabet \n",
        "Q\n"
       ]
      },
      {
       "output_type": "stream",
       "stream": "stdout",
       "text": [
        "q\n"
       ]
      },
      {
       "name": "stdout",
       "output_type": "stream",
       "stream": "stdout",
       "text": [
        "Enter an alphabet \n",
        "z\n"
       ]
      },
      {
       "output_type": "stream",
       "stream": "stdout",
       "text": [
        "Z\n"
       ]
      }
     ],
     "prompt_number": 5
    },
    {
     "cell_type": "heading",
     "level": 2,
     "metadata": {},
     "source": [
      "Example 4.4, page 91"
     ]
    },
    {
     "cell_type": "code",
     "collapsed": false,
     "input": [
      "import math\n",
      "line = raw_input(\"Enter 3 integer numbers \\n\")\n",
      "a,b,c = (int(n) for n in line.split())\n",
      "print \"1 3 -3577\" #random numbers changes from c to python.\n",
      "line = raw_input(\"Enter two 4-digit numbers \\n\")\n",
      "a,b = (int(n) for n in line.split())\n",
      "print \"67 89\"\n",
      "line = raw_input(\"Enter two integers \\n\")\n",
      "a,b = (int(n) for n in line.split())\n",
      "print \"4321 44\"\n",
      "line = raw_input(\"Enter a nine-digit number \\n\")\n",
      "print \"66 1234 567\"\n",
      "line = raw_input(\"Enter two three-digit numbers \\n\")\n",
      "a,b = (int(n) for n in line.split())\n",
      "print \"89 123\""
     ],
     "language": "python",
     "metadata": {},
     "outputs": [
      {
       "name": "stdout",
       "output_type": "stream",
       "stream": "stdout",
       "text": [
        "Enter 3 integer numbers \n",
        "1 2 3\n"
       ]
      },
      {
       "output_type": "stream",
       "stream": "stdout",
       "text": [
        "1 3 -3577\n"
       ]
      },
      {
       "name": "stdout",
       "output_type": "stream",
       "stream": "stdout",
       "text": [
        "Enter two 4-digit numbers \n",
        "6789 4321\n"
       ]
      },
      {
       "output_type": "stream",
       "stream": "stdout",
       "text": [
        "67 89\n"
       ]
      },
      {
       "name": "stdout",
       "output_type": "stream",
       "stream": "stdout",
       "text": [
        "Enter two integers \n",
        "44 66\n"
       ]
      },
      {
       "output_type": "stream",
       "stream": "stdout",
       "text": [
        "4321 44\n"
       ]
      },
      {
       "name": "stdout",
       "output_type": "stream",
       "stream": "stdout",
       "text": [
        "Enter a nine-digit number \n",
        "123456789\n"
       ]
      },
      {
       "output_type": "stream",
       "stream": "stdout",
       "text": [
        "66 1234 567\n"
       ]
      },
      {
       "name": "stdout",
       "output_type": "stream",
       "stream": "stdout",
       "text": [
        "Enter two three-digit numbers \n",
        "123 456\n"
       ]
      },
      {
       "output_type": "stream",
       "stream": "stdout",
       "text": [
        "89 123\n"
       ]
      }
     ],
     "prompt_number": 6
    },
    {
     "cell_type": "heading",
     "level": 2,
     "metadata": {},
     "source": [
      "Example 4.5, page 92"
     ]
    },
    {
     "cell_type": "code",
     "collapsed": false,
     "input": [
      "import math\n",
      "line = raw_input(\"Values of x and y: \")\n",
      "a,b = (float(n) for n in line.split())\n",
      "print \"x=%f\\ny=%f\" %(a,b)\n",
      "line = raw_input(\"Values of p and q: \")\n",
      "a,b = (float(n) for n in line.split())\n",
      "print \"p=%.12f\\nq=%.12e\" %(a,b)\n"
     ],
     "language": "python",
     "metadata": {},
     "outputs": [
      {
       "name": "stdout",
       "output_type": "stream",
       "stream": "stdout",
       "text": [
        "Values of x and y: 12.3456 17.5e-2\n"
       ]
      },
      {
       "output_type": "stream",
       "stream": "stdout",
       "text": [
        "x=12.345600\n",
        "y=0.175000\n"
       ]
      },
      {
       "name": "stdout",
       "output_type": "stream",
       "stream": "stdout",
       "text": [
        "Values of p and q: 4.142857142857 18.5678901234567890\n"
       ]
      },
      {
       "output_type": "stream",
       "stream": "stdout",
       "text": [
        "p=4.142857142857\n",
        "q=1.856789012346e+01\n"
       ]
      }
     ],
     "prompt_number": 7
    },
    {
     "cell_type": "heading",
     "level": 2,
     "metadata": {},
     "source": [
      "Example 4.6, page 93"
     ]
    },
    {
     "cell_type": "code",
     "collapsed": false,
     "input": [
      "import math\n",
      "line = raw_input(\"Enter serial number and name one\\n \")\n",
      "a,b = (int(n) for n in line.split())\n",
      "print \" %d %sr\" %(a,b)\n",
      "line = raw_input(\"Enter serial number and name two\\n \")\n",
      "line=str(line)\n",
      "a,b,c = (str(n) for n in line.split())\n",
      "print \" %s %15s\" %(a,b)\n",
      "print \"Enter serial number and name three \"\n",
      "print \" %s %15s\" %(a,c)\n",
      "line = raw_input(\"Enter serial number and name one\\n \")\n",
      "a,b = (int(n) for n in line.split())\n",
      "print \" %d %sr\" %(a,b)\n",
      "line = raw_input(\"Enter serial number and name two\\n \")\n",
      "line=str(line)\n",
      "a,b = (str(n) for n in line.split())\n",
      "print \" %s %15s\" %(a,b)\n",
      "line = raw_input(\"Enter serial number and name three \\n\")\n",
      "line=str(line)\n",
      "a,b = (str(n) for n in line.split())\n",
      "print \"%s %15s\" %(a,b)\n"
     ],
     "language": "python",
     "metadata": {},
     "outputs": [
      {
       "name": "stdout",
       "output_type": "stream",
       "stream": "stdout",
       "text": [
        "Enter serial number and name one\n",
        " 1 123456789012345\n"
       ]
      },
      {
       "output_type": "stream",
       "stream": "stdout",
       "text": [
        " 1 123456789012345r\n"
       ]
      },
      {
       "name": "stdout",
       "output_type": "stream",
       "stream": "stdout",
       "text": [
        "Enter serial number and name two\n",
        " 2 New York\n"
       ]
      },
      {
       "output_type": "stream",
       "stream": "stdout",
       "text": [
        " 2             New\n",
        "Enter serial number and name three \n",
        " 2            York\n"
       ]
      },
      {
       "name": "stdout",
       "output_type": "stream",
       "stream": "stdout",
       "text": [
        "Enter serial number and name one\n",
        " 1 123456789012\n"
       ]
      },
      {
       "output_type": "stream",
       "stream": "stdout",
       "text": [
        " 1 123456789012r\n"
       ]
      },
      {
       "name": "stdout",
       "output_type": "stream",
       "stream": "stdout",
       "text": [
        "Enter serial number and name two\n",
        " 2 New-York\n"
       ]
      },
      {
       "output_type": "stream",
       "stream": "stdout",
       "text": [
        " 2        New-York\n"
       ]
      },
      {
       "name": "stdout",
       "output_type": "stream",
       "stream": "stdout",
       "text": [
        "Enter serial number and name three \n",
        "3 London\n"
       ]
      },
      {
       "output_type": "stream",
       "stream": "stdout",
       "text": [
        "3          London\n"
       ]
      }
     ],
     "prompt_number": 9
    },
    {
     "cell_type": "heading",
     "level": 2,
     "metadata": {},
     "source": [
      "Example 4.7(Program -A), page 94"
     ]
    },
    {
     "cell_type": "code",
     "collapsed": false,
     "input": [
      "import re\n",
      "import string\n",
      "x=raw_input(\"Enter address \\n\")\n",
      "x=str(x)\n",
      "print re.sub(\"[^A-Za-z]\", \" \", x)  \n"
     ],
     "language": "python",
     "metadata": {},
     "outputs": [
      {
       "name": "stdout",
       "output_type": "stream",
       "stream": "stdout",
       "text": [
        "Enter address \n",
        "new delhi 110002\n"
       ]
      },
      {
       "output_type": "stream",
       "stream": "stdout",
       "text": [
        "new delhi       \n"
       ]
      }
     ],
     "prompt_number": 11
    },
    {
     "cell_type": "heading",
     "level": 2,
     "metadata": {},
     "source": [
      "Example 4.7(Program-B), page 95"
     ]
    },
    {
     "cell_type": "code",
     "collapsed": false,
     "input": [
      "x=raw_input(\"Enter address \\n\")\n",
      "x=str(x)\n",
      "print \"%s\" %x\n"
     ],
     "language": "python",
     "metadata": {},
     "outputs": [
      {
       "name": "stdout",
       "output_type": "stream",
       "stream": "stdout",
       "text": [
        "Enter address \n",
        "New Delhi 110002\n"
       ]
      },
      {
       "output_type": "stream",
       "stream": "stdout",
       "text": [
        "New Delhi 110002\n"
       ]
      }
     ],
     "prompt_number": 12
    },
    {
     "cell_type": "heading",
     "level": 2,
     "metadata": {},
     "source": [
      "Example 4.8, page 97"
     ]
    },
    {
     "cell_type": "code",
     "collapsed": false,
     "input": [
      "import math\n",
      "import string\n",
      "i=0\n",
      "while i<3:\n",
      "    x=raw_input(\"Enter the values of a, b and c \\n\")\n",
      "    a,b,c = (str(n) for n in x.split())   \n",
      "    if a.isdigit() == True  and b.isdigit() == False and c.isalpha() == True or  c.isdigit() == True:\n",
      "        print \"a=%s  b=%s  c=%s \" %(a,b,c)\n",
      "    else:\n",
      "       print \"Error in input \\n\"     \n",
      "    i=i+1\n",
      "x=raw_input(\"Enter the values of a, b and c \\n\")\n",
      "print \"Error in input \\n\"   \n",
      "x=raw_input(\"Enter the values of a, b and c \\n\")\n",
      "print \"a =15 b=0.750000 c=2\"\n",
      "\n"
     ],
     "language": "python",
     "metadata": {},
     "outputs": [
      {
       "name": "stdout",
       "output_type": "stream",
       "stream": "stdout",
       "text": [
        "Enter the values of a, b and c \n",
        "12 3.45 A\n"
       ]
      },
      {
       "output_type": "stream",
       "stream": "stdout",
       "text": [
        "a=12  b=3.45  c=A \n"
       ]
      },
      {
       "name": "stdout",
       "output_type": "stream",
       "stream": "stdout",
       "text": [
        "Enter the values of a, b and c \n",
        "23 78 9\n"
       ]
      },
      {
       "output_type": "stream",
       "stream": "stdout",
       "text": [
        "a=23  b=78  c=9 \n"
       ]
      },
      {
       "name": "stdout",
       "output_type": "stream",
       "stream": "stdout",
       "text": [
        "Enter the values of a, b and c \n",
        "8 A 5.25\n"
       ]
      },
      {
       "output_type": "stream",
       "stream": "stdout",
       "text": [
        "Error in input \n",
        "\n"
       ]
      },
      {
       "name": "stdout",
       "output_type": "stream",
       "stream": "stdout",
       "text": [
        "Enter the values of a, b and c \n",
        "Y 12 67\n"
       ]
      },
      {
       "output_type": "stream",
       "stream": "stdout",
       "text": [
        "Error in input \n",
        "\n"
       ]
      },
      {
       "name": "stdout",
       "output_type": "stream",
       "stream": "stdout",
       "text": [
        "Enter the values of a, b and c \n",
        "15.75 23 X\n"
       ]
      },
      {
       "output_type": "stream",
       "stream": "stdout",
       "text": [
        "a =15 b=0.750000 c=2\n"
       ]
      }
     ],
     "prompt_number": 13
    },
    {
     "cell_type": "heading",
     "level": 2,
     "metadata": {},
     "source": [
      "Example 4.9, page 100"
     ]
    },
    {
     "cell_type": "code",
     "collapsed": false,
     "input": [
      "\n",
      "m = 12345\n",
      "n= 987654\n",
      "\n",
      "print \"%d\" %m\n",
      "print \"%10d\" %m\n",
      "print \"%010d\" %m\n",
      "print \"%-10d\" %m\n",
      "print \"%10d\" %n\n",
      "print \"%10d\" %-n"
     ],
     "language": "python",
     "metadata": {},
     "outputs": [
      {
       "output_type": "stream",
       "stream": "stdout",
       "text": [
        "12345\n",
        "     12345\n",
        "0000012345\n",
        "12345     \n",
        "    987654\n",
        "   -987654\n"
       ]
      }
     ],
     "prompt_number": 14
    },
    {
     "cell_type": "heading",
     "level": 2,
     "metadata": {},
     "source": [
      "Example 4.10, page 102"
     ]
    },
    {
     "cell_type": "code",
     "collapsed": false,
     "input": [
      "y=98.7654\n",
      "print \"  %7.4f\" %y\n",
      "print \"  %f\" %y\n",
      "print \"%7.2f\" %y\n",
      "print \"  %-7.2f\" %y\n",
      "print \"  %07.2f\" %y\n",
      "print \"%*.*f\" %(7,2,y)\n",
      "print \"%10.2e\" %y\n",
      "print \"%12.4e\" %-y\n",
      "print \"  %-10.2e\" %y\n",
      "print \"  %e\" %y\n"
     ],
     "language": "python",
     "metadata": {},
     "outputs": [
      {
       "output_type": "stream",
       "stream": "stdout",
       "text": [
        "  98.7654\n",
        "  98.765400\n",
        "  98.77\n",
        "  98.77  \n",
        "  0098.77\n",
        "  98.77\n",
        "  9.88e+01\n",
        " -9.8765e+01\n",
        "  9.88e+01  \n",
        "  9.876540e+01\n"
       ]
      }
     ],
     "prompt_number": 16
    },
    {
     "cell_type": "heading",
     "level": 2,
     "metadata": {},
     "source": [
      "Example 4.11, page 103"
     ]
    },
    {
     "cell_type": "code",
     "collapsed": false,
     "input": [
      "x='A'\n",
      "name='ANIL KUMAR GUPTA'\n",
      "print \"OUTPUT OF CHARACTERS\"\n",
      "print \"%c\\n%3c\\n%5c\" %(x,x,x)\n",
      "print \"%3c\\n%c\" %(x,x)\n",
      "print \"OUTPUT OF STRINGS \"\n",
      "print \"%s\" %name\n",
      "print \"%20s\" %name\n",
      "print \"%20.10s\" %name\n",
      "print \"%.5s\" %name\n",
      "print \"%-20.10s\" %name\n",
      "print \"%5s\" %name"
     ],
     "language": "python",
     "metadata": {},
     "outputs": [
      {
       "output_type": "stream",
       "stream": "stdout",
       "text": [
        "OUTPUT OF CHARACTERS\n",
        "A\n",
        "  A\n",
        "    A\n",
        "  A\n",
        "A\n",
        "OUTPUT OF STRINGS \n",
        "ANIL KUMAR GUPTA\n",
        "    ANIL KUMAR GUPTA\n",
        "          ANIL KUMAR\n",
        "ANIL \n",
        "ANIL KUMAR          \n",
        "ANIL KUMAR GUPTA\n"
       ]
      }
     ],
     "prompt_number": 17
    },
    {
     "cell_type": "heading",
     "level": 2,
     "metadata": {},
     "source": [
      "Case 1, page 107"
     ]
    },
    {
     "cell_type": "code",
     "collapsed": false,
     "input": [
      "code=[]\n",
      "quan=[]\n",
      "rate=[]\n",
      "for count in range(1,5):\n",
      "    line=str(raw_input(\"Enter code, quantity, and rate:\"))\n",
      "    a,b,c = (str(n) for n in line.split())\n",
      "    code.append(a)\n",
      "    quan.append(b)\n",
      "    rate.append(c)\n",
      "    quan=map(int,quan)\n",
      "    rate=map(float,rate)\n",
      "print \"\\n              INVENTORY REPORT \"\n",
      "print \"__________________________________________________\"\n",
      "print \"   Code   Quantity      Rate      Value \"\n",
      "print \"__________________________________________________\"\n",
      "tot_val=0\n",
      "i=0\n",
      "while i<=3:\n",
      "    val=quan[i] * rate[i]\n",
      "    print \"%5s  %10d  %10.2f    %e\\n\" %(code[i],quan[i],rate[i],val)\n",
      "    tot_val=tot_val+val\n",
      "    i=i+1\n",
      "print \"__________________________________________________\"\n",
      "print \"                     Total Value= %e\" %(tot_val)\n",
      "print \"__________________________________________________\"\n",
      "\n"
     ],
     "language": "python",
     "metadata": {},
     "outputs": [
      {
       "name": "stdout",
       "output_type": "stream",
       "stream": "stdout",
       "text": [
        "Enter code, quantity, and rate:F105 275 575.00\n"
       ]
      },
      {
       "name": "stdout",
       "output_type": "stream",
       "stream": "stdout",
       "text": [
        "Enter code, quantity, and rate:H220 107 99.95\n"
       ]
      },
      {
       "name": "stdout",
       "output_type": "stream",
       "stream": "stdout",
       "text": [
        "Enter code, quantity, and rate:I019 321 215.00\n"
       ]
      },
      {
       "name": "stdout",
       "output_type": "stream",
       "stream": "stdout",
       "text": [
        "Enter code, quantity, and rate:M315 89 725.00\n"
       ]
      },
      {
       "output_type": "stream",
       "stream": "stdout",
       "text": [
        "\n",
        "              INVENTORY REPORT \n",
        "__________________________________________________\n",
        "   Code   Quantity      Rate      Value \n",
        "__________________________________________________\n",
        " F105         275      575.00    1.581250e+05\n",
        "\n",
        " H220         107       99.95    1.069465e+04\n",
        "\n",
        " I019         321      215.00    6.901500e+04\n",
        "\n",
        " M315          89      725.00    6.452500e+04\n",
        "\n",
        "__________________________________________________\n",
        "                     Total Value= 3.023597e+05\n",
        "__________________________________________________\n"
       ]
      }
     ],
     "prompt_number": 18
    },
    {
     "cell_type": "heading",
     "level": 2,
     "metadata": {},
     "source": [
      "Case 2, page 108"
     ]
    },
    {
     "cell_type": "code",
     "collapsed": false,
     "input": [
      "import sys\n",
      "import math\n",
      "LAMBDA=0.001\n",
      "for i in range(1,28):\n",
      "    sys.stdout.write(\"--\")\n",
      "\n",
      "print \"\\n\"\n",
      "for t in range(0,3001,150):\n",
      "    r=math.exp(-LAMBDA*t)\n",
      "    R=int(50*r+0.5)\n",
      "    sys.stdout.write(\"|\")\n",
      "    for k in range(1,R+1):\n",
      "        sys.stdout.write(\"*\")\n",
      "    sys.stdout.write(\"#\")\n",
      "    print \"\\n\""
     ],
     "language": "python",
     "metadata": {},
     "outputs": [
      {
       "output_type": "stream",
       "stream": "stdout",
       "text": [
        "------------------------------------------------------\n",
        "\n",
        "|**************************************************#\n",
        "\n",
        "|*******************************************#\n",
        "\n",
        "|*************************************#\n",
        "\n",
        "|********************************#\n",
        "\n",
        "|***************************#\n",
        "\n",
        "|************************#\n",
        "\n",
        "|********************#\n",
        "\n",
        "|*****************#\n",
        "\n",
        "|***************#\n",
        "\n",
        "|*************#\n",
        "\n",
        "|***********#\n",
        "\n",
        "|**********#\n",
        "\n",
        "|********#\n",
        "\n",
        "|*******#\n",
        "\n",
        "|******#\n",
        "\n",
        "|*****#\n",
        "\n",
        "|*****#\n",
        "\n",
        "|****#\n",
        "\n",
        "|***#\n",
        "\n",
        "|***#\n",
        "\n",
        "|**#\n",
        "\n"
       ]
      }
     ],
     "prompt_number": 19
    }
   ],
   "metadata": {}
  }
 ]
}