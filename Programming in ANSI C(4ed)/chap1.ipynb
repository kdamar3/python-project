{
 "metadata": {
  "name": ""
 },
 "nbformat": 3,
 "nbformat_minor": 0,
 "worksheets": [
  {
   "cells": [
    {
     "cell_type": "heading",
     "level": 1,
     "metadata": {},
     "source": [
      "CHAPTER 1 - OVERVIEW OF C -  5 EXAMPLES"
     ]
    },
    {
     "cell_type": "heading",
     "level": 2,
     "metadata": {},
     "source": [
      "Example 1.3, page 3"
     ]
    },
    {
     "cell_type": "code",
     "collapsed": false,
     "input": [
      "print \"i see, i remember\"\n"
     ],
     "language": "python",
     "metadata": {},
     "outputs": [
      {
       "output_type": "stream",
       "stream": "stdout",
       "text": [
        "i see, i remember\n"
       ]
      }
     ],
     "prompt_number": 3
    },
    {
     "cell_type": "heading",
     "level": 2,
     "metadata": {},
     "source": [
      "Example 1.4, page 6"
     ]
    },
    {
     "cell_type": "code",
     "collapsed": false,
     "input": [
      "number =100\n",
      "amount=30.75 + 75.35\n",
      "print int(number)\n",
      "print \"%.2f\" %amount\n"
     ],
     "language": "python",
     "metadata": {},
     "outputs": [
      {
       "output_type": "stream",
       "stream": "stdout",
       "text": [
        "100\n",
        "106.10\n"
       ]
      }
     ],
     "prompt_number": 4
    },
    {
     "cell_type": "heading",
     "level": 2,
     "metadata": {},
     "source": [
      "Example 1.5, page 8"
     ]
    },
    {
     "cell_type": "code",
     "collapsed": false,
     "input": [
      "PERIOD=10\n",
      "amount=5000.00\n",
      "inrate=0.11\n",
      "year=0\n",
      "while year<=PERIOD:\n",
      "    print \"%2d %8.2f \\n\" %(year,amount)\n",
      "    value=amount+inrate*amount\n",
      "    year=year+1\n",
      "    amount=value"
     ],
     "language": "python",
     "metadata": {},
     "outputs": [
      {
       "output_type": "stream",
       "stream": "stdout",
       "text": [
        " 0  5000.00 \n",
        "\n",
        " 1  5550.00 \n",
        "\n",
        " 2  6160.50 \n",
        "\n",
        " 3  6838.15 \n",
        "\n",
        " 4  7590.35 \n",
        "\n",
        " 5  8425.29 \n",
        "\n",
        " 6  9352.07 \n",
        "\n",
        " 7 10380.80 \n",
        "\n",
        " 8 11522.69 \n",
        "\n",
        " 9 12790.18 \n",
        "\n",
        "10 14197.10 \n",
        "\n"
       ]
      }
     ],
     "prompt_number": 5
    },
    {
     "cell_type": "heading",
     "level": 2,
     "metadata": {},
     "source": [
      "Example 1.6, page 10"
     ]
    },
    {
     "cell_type": "code",
     "collapsed": false,
     "input": [
      "def mul(a,b):\n",
      "    p=a*b;\n",
      "    print p\n",
      "mul(5,10)\n"
     ],
     "language": "python",
     "metadata": {},
     "outputs": [
      {
       "output_type": "stream",
       "stream": "stdout",
       "text": [
        "50\n"
       ]
      }
     ],
     "prompt_number": 6
    },
    {
     "cell_type": "heading",
     "level": 2,
     "metadata": {},
     "source": [
      "Example 1.7, page 11"
     ]
    },
    {
     "cell_type": "code",
     "collapsed": false,
     "input": [
      "import math \n",
      "PI=3.1416\n",
      "MAX=180\n",
      "angle=0\n",
      "print \"            Angle      Cos(angle)\\n\\n\"\n",
      "while angle<=MAX:\n",
      "    x=(PI/MAX)*angle\n",
      "    y=math.cos(x)\n",
      "    print \"%15d  %13.4f\\n\" %(angle,y)\n",
      "    angle=angle+10    \n",
      "    "
     ],
     "language": "python",
     "metadata": {},
     "outputs": [
      {
       "output_type": "stream",
       "stream": "stdout",
       "text": [
        "            Angle      Cos(angle)\n",
        "\n",
        "\n",
        "              0         1.0000\n",
        "\n",
        "             10         0.9848\n",
        "\n",
        "             20         0.9397\n",
        "\n",
        "             30         0.8660\n",
        "\n",
        "             40         0.7660\n",
        "\n",
        "             50         0.6428\n",
        "\n",
        "             60         0.5000\n",
        "\n",
        "             70         0.3420\n",
        "\n",
        "             80         0.1736\n",
        "\n",
        "             90        -0.0000\n",
        "\n",
        "            100        -0.1737\n",
        "\n",
        "            110        -0.3420\n",
        "\n",
        "            120        -0.5000\n",
        "\n",
        "            130        -0.6428\n",
        "\n",
        "            140        -0.7660\n",
        "\n",
        "            150        -0.8660\n",
        "\n",
        "            160        -0.9397\n",
        "\n",
        "            170        -0.9848\n",
        "\n",
        "            180        -1.0000\n",
        "\n"
       ]
      }
     ],
     "prompt_number": 10
    }
   ],
   "metadata": {}
  }
 ]
}