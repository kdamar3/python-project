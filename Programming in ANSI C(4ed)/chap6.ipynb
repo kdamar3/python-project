{
 "metadata": {
  "name": ""
 },
 "nbformat": 3,
 "nbformat_minor": 0,
 "worksheets": [
  {
   "cells": [
    {
     "cell_type": "heading",
     "level": 1,
     "metadata": {},
     "source": [
      "CHAPTER 6 - DECISION MAKING AND LOOPING - 11 EXAMPLES"
     ]
    },
    {
     "cell_type": "heading",
     "level": 2,
     "metadata": {},
     "source": [
      "Example 6.1, page 156"
     ]
    },
    {
     "cell_type": "code",
     "collapsed": false,
     "input": [
      "import sys\n",
      "i=1\n",
      "while i<=2:\n",
      "    y=1.0\n",
      "    count=1\n",
      "    sys.stdout.write(\"Enter the values of x and n:\")\n",
      "    line=str(raw_input())\n",
      "    x,n = (str(n) for n in line.split())\n",
      "    x=float(str(x))\n",
      "    n=int(str(n))\n",
      "    while count<=n:\n",
      "        y=y*x\n",
      "        count=count+1\n",
      "      \n",
      "    print \"x=%f; n=%d; x to power n = %f\" %(x,n,y)\n",
      "    i=i+1\n",
      "    \n"
     ],
     "language": "python",
     "metadata": {},
     "outputs": [
      {
       "output_type": "stream",
       "stream": "stdout",
       "text": [
        "Enter the values of x and n:"
       ]
      },
      {
       "name": "stdout",
       "output_type": "stream",
       "stream": "stdout",
       "text": [
        "2.5 4\n"
       ]
      },
      {
       "output_type": "stream",
       "stream": "stdout",
       "text": [
        "x=2.500000; n=4; x to power n = 39.062500\n",
        "Enter the values of x and n:"
       ]
      },
      {
       "name": "stdout",
       "output_type": "stream",
       "stream": "stdout",
       "text": [
        "0.5 4\n"
       ]
      },
      {
       "output_type": "stream",
       "stream": "stdout",
       "text": [
        "x=0.500000; n=4; x to power n = 0.062500\n"
       ]
      }
     ],
     "prompt_number": 1
    },
    {
     "cell_type": "heading",
     "level": 2,
     "metadata": {},
     "source": [
      "Example 6.2, page 158"
     ]
    },
    {
     "cell_type": "code",
     "collapsed": false,
     "input": [
      "import sys\n",
      "import time\n",
      "row=1\n",
      "print \"               MULTIPLICATION TABLE            \"\n",
      "print \"-----------------------------------------------------\\n\"\n",
      "while(row<=12):\n",
      "    col=1\n",
      "    while(col<=10):\n",
      "        y=row*col\n",
      "        print \"%4d\" %y,\n",
      "        col=col+1\n",
      "    print \"\\n\"\n",
      "    row=row+1\n",
      "print \"-----------------------------------------------------\\n\"\n"
     ],
     "language": "python",
     "metadata": {},
     "outputs": [
      {
       "output_type": "stream",
       "stream": "stdout",
       "text": [
        "               MULTIPLICATION TABLE            \n",
        "-----------------------------------------------------\n",
        "\n",
        "   1    2    3    4    5    6    7    8    9   10 \n",
        "\n",
        "   2    4    6    8   10   12   14   16   18   20 \n",
        "\n",
        "   3    6    9   12   15   18   21   24   27   30 \n",
        "\n",
        "   4    8   12   16   20   24   28   32   36   40 \n",
        "\n",
        "   5   10   15   20   25   30   35   40   45   50 \n",
        "\n",
        "   6   12   18   24   30   36   42   48   54   60 \n",
        "\n",
        "   7   14   21   28   35   42   49   56   63   70 \n",
        "\n",
        "   8   16   24   32   40   48   56   64   72   80 \n",
        "\n",
        "   9   18   27   36   45   54   63   72   81   90 \n",
        "\n",
        "  10   20   30   40   50   60   70   80   90  100 \n",
        "\n",
        "  11   22   33   44   55   66   77   88   99  110 \n",
        "\n",
        "  12   24   36   48   60   72   84   96  108  120 \n",
        "\n",
        "-----------------------------------------------------\n",
        "\n"
       ]
      }
     ],
     "prompt_number": 2
    },
    {
     "cell_type": "heading",
     "level": 2,
     "metadata": {},
     "source": [
      "Example 6.3, page 161"
     ]
    },
    {
     "cell_type": "code",
     "collapsed": false,
     "input": [
      "print \"-------------------------------------------------------\"\n",
      "print \"2 to power n        n               2 to power -n    \"\n",
      "print \"-------------------------------------------------------\"\n",
      "p=1\n",
      "for n in range(0,21):\n",
      "    if(n==0):\n",
      "        p=1\n",
      "    else:\n",
      "        p=p*2\n",
      "    q=1.0/p\n",
      "    print \"%10.7d %10d %29.12f\" %(p,n,q)\n",
      "print \"-------------------------------------------------------\"\n",
      "\n",
      "        \n",
      "  \n"
     ],
     "language": "python",
     "metadata": {},
     "outputs": [
      {
       "output_type": "stream",
       "stream": "stdout",
       "text": [
        "-------------------------------------------------------\n",
        "2 to power n        n               2 to power -n    \n",
        "-------------------------------------------------------\n",
        "   0000001          0                1.000000000000\n",
        "   0000002          1                0.500000000000\n",
        "   0000004          2                0.250000000000\n",
        "   0000008          3                0.125000000000\n",
        "   0000016          4                0.062500000000\n",
        "   0000032          5                0.031250000000\n",
        "   0000064          6                0.015625000000\n",
        "   0000128          7                0.007812500000\n",
        "   0000256          8                0.003906250000\n",
        "   0000512          9                0.001953125000\n",
        "   0001024         10                0.000976562500\n",
        "   0002048         11                0.000488281250\n",
        "   0004096         12                0.000244140625\n",
        "   0008192         13                0.000122070312\n",
        "   0016384         14                0.000061035156\n",
        "   0032768         15                0.000030517578\n",
        "   0065536         16                0.000015258789\n",
        "   0131072         17                0.000007629395\n",
        "   0262144         18                0.000003814697\n",
        "   0524288         19                0.000001907349\n",
        "   1048576         20                0.000000953674\n",
        "-------------------------------------------------------\n"
       ]
      }
     ],
     "prompt_number": 7
    },
    {
     "cell_type": "heading",
     "level": 2,
     "metadata": {},
     "source": [
      "Example 6.4, page 165"
     ]
    },
    {
     "cell_type": "code",
     "collapsed": false,
     "input": [
      "marks=[]\n",
      "line = raw_input(\"Enter number of students and subjects \\n\")\n",
      "n,m = (int(i) for i in line.split())\n",
      "for i in range(1,n+1,1):\n",
      "    roll_no = int(raw_input(\"Enter roll number :\"))\n",
      "    total=0\n",
      "    print \"Enter marks of %d subjects for ROLL NO %d \" %(m,roll_no)\n",
      "    x=raw_input()\n",
      "    marks = (int(i) for i in x.split())\n",
      "    total=sum(marks)\n",
      "    print \"TOTAL MARKS = %d\" %(total),\n",
      "    if(total>=360):\n",
      "        print \"(First Division)\"\n",
      "    elif(total>=240):\n",
      "        print \"(First Division)\"\n",
      "    else:\n",
      "        print \"( *** F A I L *** )\"\n",
      "        \n",
      "    \n"
     ],
     "language": "python",
     "metadata": {},
     "outputs": [
      {
       "name": "stdout",
       "output_type": "stream",
       "stream": "stdout",
       "text": [
        "Enter number of students and subjects \n",
        "3 6\n"
       ]
      },
      {
       "name": "stdout",
       "output_type": "stream",
       "stream": "stdout",
       "text": [
        "Enter roll number :8701\n"
       ]
      },
      {
       "output_type": "stream",
       "stream": "stdout",
       "text": [
        "Enter marks of 6 subjects for ROLL NO 8701 \n"
       ]
      },
      {
       "name": "stdout",
       "output_type": "stream",
       "stream": "stdout",
       "text": [
        "81 75 83 45 61 59\n"
       ]
      },
      {
       "output_type": "stream",
       "stream": "stdout",
       "text": [
        "TOTAL MARKS = 404 (First Division)\n"
       ]
      },
      {
       "name": "stdout",
       "output_type": "stream",
       "stream": "stdout",
       "text": [
        "Enter roll number :8702\n"
       ]
      },
      {
       "output_type": "stream",
       "stream": "stdout",
       "text": [
        "Enter marks of 6 subjects for ROLL NO 8702 \n"
       ]
      },
      {
       "name": "stdout",
       "output_type": "stream",
       "stream": "stdout",
       "text": [
        "51 49 55 47 65 41\n"
       ]
      },
      {
       "output_type": "stream",
       "stream": "stdout",
       "text": [
        "TOTAL MARKS = 308 (First Division)\n"
       ]
      },
      {
       "name": "stdout",
       "output_type": "stream",
       "stream": "stdout",
       "text": [
        "Enter roll number :8704\n"
       ]
      },
      {
       "output_type": "stream",
       "stream": "stdout",
       "text": [
        "Enter marks of 6 subjects for ROLL NO 8704 \n"
       ]
      },
      {
       "name": "stdout",
       "output_type": "stream",
       "stream": "stdout",
       "text": [
        "40 19 31 47 39 25\n"
       ]
      },
      {
       "output_type": "stream",
       "stream": "stdout",
       "text": [
        "TOTAL MARKS = 201 ( *** F A I L *** )\n"
       ]
      }
     ],
     "prompt_number": 9
    },
    {
     "cell_type": "heading",
     "level": 2,
     "metadata": {},
     "source": [
      "Example 6.5, page 168"
     ]
    },
    {
     "cell_type": "code",
     "collapsed": false,
     "input": [
      "val=[]\n",
      "print \"This program computes the average of a set of numbers\"\n",
      "print \"Enter values one after another\"\n",
      "print \"Enter a NEGATIVE number at the end.\"\n",
      "x=raw_input()\n",
      "val = list((str(i) for i in x.split()))\n",
      "val=map(int,val)\n",
      "del val[-1]\n",
      "su=sum(val)\n",
      "avg=su/(len(val))\n",
      "print \"\\nNumber of values=%d\" %(len(val))\n",
      "print \"Sum             =%f\" %su\n",
      "print \"Average         =%f\" %avg\n"
     ],
     "language": "python",
     "metadata": {},
     "outputs": [
      {
       "output_type": "stream",
       "stream": "stdout",
       "text": [
        "This program computes the average of a set of numbers\n",
        "Enter values one after another\n",
        "Enter a NEGATIVE number at the end.\n"
       ]
      },
      {
       "name": "stdout",
       "output_type": "stream",
       "stream": "stdout",
       "text": [
        "21 23 24 22 26 22 -1\n"
       ]
      },
      {
       "output_type": "stream",
       "stream": "stdout",
       "text": [
        "\n",
        "Number of values=6\n",
        "Sum             =138.000000\n",
        "Average         =23.000000\n"
       ]
      }
     ],
     "prompt_number": 12
    },
    {
     "cell_type": "heading",
     "level": 2,
     "metadata": {},
     "source": [
      "Example 6.6, page  169"
     ]
    },
    {
     "cell_type": "code",
     "collapsed": false,
     "input": [
      "def func():\n",
      "    print \"EXIT FROM LOOP\"\n",
      "    print \"su=%f; No. of terms=%d\" %(su,n)\n",
      "i=1\n",
      "while i<=3:\n",
      "    x=float(raw_input(\"Input value of x :\"))\n",
      "    su=0\n",
      "    term=1\n",
      "    for n in range(1,101,1):\n",
      "        su=su+term\n",
      "        if(term<=0.0001):\n",
      "            func()\n",
      "            break\n",
      "        term=term*x\n",
      "        continue\n",
      "    i=i+1\n",
      "print \"FINAL VALUE OF N IS NOT SUFFICIENT\"\n",
      "print \"TO ACHIEVE DESIRED ACCURACY\"            \n",
      "   \n"
     ],
     "language": "python",
     "metadata": {},
     "outputs": [
      {
       "name": "stdout",
       "output_type": "stream",
       "stream": "stdout",
       "text": [
        "Input value of x :.21\n"
       ]
      },
      {
       "output_type": "stream",
       "stream": "stdout",
       "text": [
        "EXIT FROM LOOP\n",
        "su=1.265800; No. of terms=7\n"
       ]
      },
      {
       "name": "stdout",
       "output_type": "stream",
       "stream": "stdout",
       "text": [
        "Input value of x :.75\n"
       ]
      },
      {
       "output_type": "stream",
       "stream": "stdout",
       "text": [
        "EXIT FROM LOOP\n",
        "su=3.999774; No. of terms=34\n"
       ]
      },
      {
       "name": "stdout",
       "output_type": "stream",
       "stream": "stdout",
       "text": [
        "Input value of x :.99\n"
       ]
      },
      {
       "output_type": "stream",
       "stream": "stdout",
       "text": [
        "FINAL VALUE OF N IS NOT SUFFICIENT\n",
        "TO ACHIEVE DESIRED ACCURACY\n"
       ]
      }
     ],
     "prompt_number": 13
    },
    {
     "cell_type": "heading",
     "level": 2,
     "metadata": {},
     "source": [
      "Example 6.7, page 172"
     ]
    },
    {
     "cell_type": "code",
     "collapsed": false,
     "input": [
      "import math\n",
      "print \"Enter 9999 to STOP\"\n",
      "count=0\n",
      "neg=0\n",
      "while(count<=100):\n",
      "    num=float(raw_input( \"Enter a number: \"))\n",
      "    if(num==9999):\n",
      "        break\n",
      "    elif(num<0):\n",
      "        print \"Number is negative\"\n",
      "        neg=neg+1\n",
      "        continue\n",
      "    else:\n",
      "        sqroot=math.sqrt(num)\n",
      "        print \"Number=%f\\nsquare root=%f\" %(num,sqroot)\n",
      "    count=count+1\n",
      "print \"Number of items done=%d\" %count\n",
      "print \"Negative items=%d \" %neg\n",
      "print \"END OF DATA\"   \n",
      "  \n"
     ],
     "language": "python",
     "metadata": {},
     "outputs": [
      {
       "output_type": "stream",
       "stream": "stdout",
       "text": [
        "Enter 9999 to STOP\n"
       ]
      },
      {
       "name": "stdout",
       "output_type": "stream",
       "stream": "stdout",
       "text": [
        "Enter a number: 25.0\n"
       ]
      },
      {
       "output_type": "stream",
       "stream": "stdout",
       "text": [
        "Number=25.000000\n",
        "square root=5.000000\n"
       ]
      },
      {
       "name": "stdout",
       "output_type": "stream",
       "stream": "stdout",
       "text": [
        "Enter a number: 40.5\n"
       ]
      },
      {
       "output_type": "stream",
       "stream": "stdout",
       "text": [
        "Number=40.500000\n",
        "square root=6.363961\n"
       ]
      },
      {
       "name": "stdout",
       "output_type": "stream",
       "stream": "stdout",
       "text": [
        "Enter a number: -9\n"
       ]
      },
      {
       "output_type": "stream",
       "stream": "stdout",
       "text": [
        "Number is negative\n"
       ]
      },
      {
       "name": "stdout",
       "output_type": "stream",
       "stream": "stdout",
       "text": [
        "Enter a number: 16\n"
       ]
      },
      {
       "output_type": "stream",
       "stream": "stdout",
       "text": [
        "Number=16.000000\n",
        "square root=4.000000\n"
       ]
      },
      {
       "name": "stdout",
       "output_type": "stream",
       "stream": "stdout",
       "text": [
        "Enter a number: -14.75\n"
       ]
      },
      {
       "output_type": "stream",
       "stream": "stdout",
       "text": [
        "Number is negative\n"
       ]
      },
      {
       "name": "stdout",
       "output_type": "stream",
       "stream": "stdout",
       "text": [
        "Enter a number: 80\n"
       ]
      },
      {
       "output_type": "stream",
       "stream": "stdout",
       "text": [
        "Number=80.000000\n",
        "square root=8.944272\n"
       ]
      },
      {
       "name": "stdout",
       "output_type": "stream",
       "stream": "stdout",
       "text": [
        "Enter a number: 9999\n"
       ]
      },
      {
       "output_type": "stream",
       "stream": "stdout",
       "text": [
        "Number of items done=4\n",
        "Negative items=2 \n",
        "END OF DATA\n"
       ]
      }
     ],
     "prompt_number": 14
    },
    {
     "cell_type": "heading",
     "level": 2,
     "metadata": {},
     "source": [
      "Case 1, page 176"
     ]
    },
    {
     "cell_type": "code",
     "collapsed": false,
     "input": [
      "import sys\n",
      "sys.stdout.write(\"mx \")\n",
      "for m in range(0,11,1):\n",
      "    print \"%4d\" %m,\n",
      "print \"\\n-----------------------------------------------------------\"\n",
      "m=0\n",
      "while(m<=10):\n",
      "    print \"%2d\" %m,\n",
      "    x=0\n",
      "    binom=1\n",
      "    while(x<=m):\n",
      "        if(m==0 or x==0):\n",
      "            print \"%4d\" %binom,\n",
      "        else:\n",
      "            binom=binom*(m-x+1)/x\n",
      "            print \"%4d\" %binom,\n",
      "        x=x+1\n",
      "    print \"\\n\"\n",
      "    m=m+1\n",
      "print \"-----------------------------------------------------------\"\n",
      "    \n",
      "    \n",
      "          \n"
     ],
     "language": "python",
     "metadata": {},
     "outputs": [
      {
       "output_type": "stream",
       "stream": "stdout",
       "text": [
        "mx    0    1    2    3    4    5    6    7    8    9   10 \n",
        "-----------------------------------------------------------\n",
        " 0    1 \n",
        "\n",
        " 1    1    1 \n",
        "\n",
        " 2    1    2    1 \n",
        "\n",
        " 3    1    3    3    1 \n",
        "\n",
        " 4    1    4    6    4    1 \n",
        "\n",
        " 5    1    5   10   10    5    1 \n",
        "\n",
        " 6    1    6   15   20   15    6    1 \n",
        "\n",
        " 7    1    7   21   35   35   21    7    1 \n",
        "\n",
        " 8    1    8   28   56   70   56   28    8    1 \n",
        "\n",
        " 9    1    9   36   84  126  126   84   36    9    1 \n",
        "\n",
        "10    1   10   45  120  210  252  210  120   45   10    1 \n",
        "\n",
        "-----------------------------------------------------------\n"
       ]
      }
     ],
     "prompt_number": 1
    },
    {
     "cell_type": "heading",
     "level": 2,
     "metadata": {},
     "source": [
      "Case 2, page 177"
     ]
    },
    {
     "cell_type": "code",
     "collapsed": false,
     "input": [
      "import sys\n",
      "val=[]\n",
      "for n in range(0,5,1):\n",
      "    print \"Enter employees in Group - %d:\" %(n+1),\n",
      "    x=int(raw_input())\n",
      "    print x\n",
      "    val=map(int,val)\n",
      "    val.append(x)\n",
      "print \"         |\"\n",
      "for n in range(0,5,1):\n",
      "    for i in range(1,4,1):\n",
      "        if(i==2):\n",
      "            print \" Group-%1d |\" %(n+1),\n",
      "        else:\n",
      "            print \"         |\",\n",
      "        for j in range(1,val[n]+1,1):\n",
      "            print \"*\",\n",
      "        if(i==2):\n",
      "            print \"(%d)\" %val[n]\n",
      "        else:\n",
      "            print \"\\n\",\n",
      "    print \"         |\\n\"   "
     ],
     "language": "python",
     "metadata": {},
     "outputs": [
      {
       "output_type": "stream",
       "stream": "stdout",
       "text": [
        " Enter employees in Group - 1:"
       ]
      },
      {
       "name": "stdout",
       "output_type": "stream",
       "stream": "stdout",
       "text": [
        "12\n"
       ]
      },
      {
       "output_type": "stream",
       "stream": "stdout",
       "text": [
        " 12\n",
        "Enter employees in Group - 2:"
       ]
      },
      {
       "name": "stdout",
       "output_type": "stream",
       "stream": "stdout",
       "text": [
        "23\n"
       ]
      },
      {
       "output_type": "stream",
       "stream": "stdout",
       "text": [
        " 23\n",
        "Enter employees in Group - 3:"
       ]
      },
      {
       "name": "stdout",
       "output_type": "stream",
       "stream": "stdout",
       "text": [
        "35\n"
       ]
      },
      {
       "output_type": "stream",
       "stream": "stdout",
       "text": [
        " 35\n",
        "Enter employees in Group - 4:"
       ]
      },
      {
       "name": "stdout",
       "output_type": "stream",
       "stream": "stdout",
       "text": [
        "20\n"
       ]
      },
      {
       "output_type": "stream",
       "stream": "stdout",
       "text": [
        " 20\n",
        "Enter employees in Group - 5:"
       ]
      },
      {
       "name": "stdout",
       "output_type": "stream",
       "stream": "stdout",
       "text": [
        "11\n"
       ]
      },
      {
       "output_type": "stream",
       "stream": "stdout",
       "text": [
        " 11\n",
        "         |\n",
        "         | * * * * * * * * * * * * \n",
        " Group-1 | * * * * * * * * * * * * (12)\n",
        "         | * * * * * * * * * * * * \n",
        "         |\n",
        "\n",
        "         | * * * * * * * * * * * * * * * * * * * * * * * \n",
        " Group-2 | * * * * * * * * * * * * * * * * * * * * * * * (23)\n",
        "         | * * * * * * * * * * * * * * * * * * * * * * * \n",
        "         |\n",
        "\n",
        "         | * * * * * * * * * * * * * * * * * * * * * * * * * * * * * * * * * * * \n",
        " Group-3 | * * * * * * * * * * * * * * * * * * * * * * * * * * * * * * * * * * * (35)\n",
        "         | * * * * * * * * * * * * * * * * * * * * * * * * * * * * * * * * * * * \n",
        "         |\n",
        "\n",
        "         | * * * * * * * * * * * * * * * * * * * * \n",
        " Group-4 | * * * * * * * * * * * * * * * * * * * * (20)\n",
        "         | * * * * * * * * * * * * * * * * * * * * \n",
        "         |\n",
        "\n",
        "         | * * * * * * * * * * * \n",
        " Group-5 | * * * * * * * * * * * (11)\n",
        "         | * * * * * * * * * * * \n",
        "         |\n",
        "\n"
       ]
      }
     ],
     "prompt_number": 4
    },
    {
     "cell_type": "heading",
     "level": 2,
     "metadata": {},
     "source": [
      "Case 3, page 179"
     ]
    },
    {
     "cell_type": "code",
     "collapsed": false,
     "input": [
      "import numpy as np\n",
      "for p in np.arange(0,11,0.1):\n",
      "    cost=40-8*p+p*p\n",
      "    if(p==0):\n",
      "        c1=cost\n",
      "        continue\n",
      "    elif(cost>=c1):\n",
      "        break\n",
      "    c1=cost\n",
      "    p1=p\n",
      "p=(p+p1)/float(2.0)\n",
      "cost=40-8*p+p*p\n",
      "print \"MINIMUM COST=%.2f AT p=%.f\" %(cost,p)\n"
     ],
     "language": "python",
     "metadata": {},
     "outputs": [
      {
       "output_type": "stream",
       "stream": "stdout",
       "text": [
        "MINIMUM COST=24.00 AT p=4\n"
       ]
      }
     ],
     "prompt_number": 5
    },
    {
     "cell_type": "heading",
     "level": 2,
     "metadata": {},
     "source": [
      "Case 4, page 180"
     ]
    },
    {
     "cell_type": "code",
     "collapsed": false,
     "input": [
      "from math import exp\n",
      "import numpy as np\n",
      "a=0.4\n",
      "print \"                                           Y -------->                     \"\n",
      "print \" 0 -----------------------------------------------------------------------------------------------------\"\n",
      "for x in np.arange(0,5,0.25):\n",
      "    y1=int(50*(np.exp(-a*x))+0.5)\n",
      "    y2=int(50*(np.exp(-a*(x**2/2)))+0.5)\n",
      "    if(y1==y2):\n",
      "        if(x==2.5):\n",
      "            print \"X  |\",\n",
      "        else:\n",
      "            print \"   |\",\n",
      "        for i in range(1,y1,1):\n",
      "            print \" \",\n",
      "        print \"#\"\n",
      "        continue\n",
      "    elif(y1>y2):\n",
      "        if(x==2.5):\n",
      "            print \"X  |\",\n",
      "        else:\n",
      "            print \"   |\",\n",
      "        for i in range(1,y2,1):\n",
      "            print \" \",\n",
      "        print \"*\",\n",
      "        for i in range(1,y1-y2,1):\n",
      "            print \"-\",\n",
      "        print \"0\"\n",
      "        continue\n",
      "    else:\n",
      "        if(x==2.5):\n",
      "            print \"X  |\",\n",
      "        else:\n",
      "            print \"   |\",\n",
      "        for i in range(1,y1,1):\n",
      "            print \" \",\n",
      "        print \"0\",\n",
      "        for i in range(1,y2-y1,1):\n",
      "            print \"-\",\n",
      "        print \"*\"\n",
      "    print \"   |\"     \n",
      "         \n",
      "           \n",
      "           \n"
     ],
     "language": "python",
     "metadata": {},
     "outputs": [
      {
       "output_type": "stream",
       "stream": "stdout",
       "text": [
        "                                           Y -------->                     \n",
        " 0 -----------------------------------------------------------------------------------------------------\n",
        "   |                                                                                                   #\n",
        "   |                                                                                         0 - - - *\n",
        "   |\n",
        "   |                                                                                 0 - - - - - - *\n",
        "   |\n",
        "   |                                                                         0 - - - - - - - *\n",
        "   |\n",
        "   |                                                                   0 - - - - - - *\n",
        "   |\n",
        "   |                                                           0 - - - - - - *\n",
        "   |\n",
        "   |                                                     0 - - - - *\n",
        "   |\n",
        "   |                                                 0 - *\n",
        "   |\n",
        "   |                                           #\n",
        "   |                                   * - 0\n",
        "X  |                           * - - - 0\n",
        "   |                     * - - - - - 0\n",
        "   |               * - - - - - - 0\n",
        "   |           * - - - - - - - 0\n",
        "   |       * - - - - - - - 0\n",
        "   |     * - - - - - - - 0\n",
        "   |   * - - - - - - - 0\n",
        "   | * - - - - - - - 0\n",
        "   | * - - - - - - 0\n",
        "   | * - - - - - 0\n"
       ]
      }
     ],
     "prompt_number": 6
    }
   ],
   "metadata": {}
  }
 ]
}