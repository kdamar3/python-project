{
 "metadata": {
  "name": ""
 },
 "nbformat": 3,
 "nbformat_minor": 0,
 "worksheets": [
  {
   "cells": [
    {
     "cell_type": "heading",
     "level": 1,
     "metadata": {},
     "source": [
      "CHAPTER 5 - DECISION MAKING AND BRANCHING -9 EXAMPLES"
     ]
    },
    {
     "cell_type": "heading",
     "level": 2,
     "metadata": {},
     "source": [
      "Example 5.1, page 116"
     ]
    },
    {
     "cell_type": "code",
     "collapsed": false,
     "input": [
      "i=0\n",
      "while i<2:\n",
      "    line = raw_input(\"Enter four integer values \\n\")\n",
      "    a,b,c,d = (int(n) for n in line.split())\n",
      "    if (c-d)!= 0:\n",
      "        ratio=float(a+b)/float(c-d)\n",
      "        print \"Ratio=%f\" %ratio\n",
      "    i=i+1\n",
      "    \n"
     ],
     "language": "python",
     "metadata": {},
     "outputs": [
      {
       "name": "stdout",
       "output_type": "stream",
       "stream": "stdout",
       "text": [
        "Enter four integer values \n",
        "12 23 34 45\n"
       ]
      },
      {
       "output_type": "stream",
       "stream": "stdout",
       "text": [
        "Ratio=-3.181818\n"
       ]
      },
      {
       "name": "stdout",
       "output_type": "stream",
       "stream": "stdout",
       "text": [
        "Enter four integer values \n",
        "12 23 34 34\n"
       ]
      }
     ],
     "prompt_number": 1
    },
    {
     "cell_type": "heading",
     "level": 2,
     "metadata": {},
     "source": [
      "Example 5.2, page 117"
     ]
    },
    {
     "cell_type": "code",
     "collapsed": false,
     "input": [
      "count=0\n",
      "print \"Enter weight and height for 10 boys \"\n",
      "for i in range(1,11):\n",
      "    line=raw_input()\n",
      "    weight,height= (float(n) for n in line.split())\n",
      "    if(weight<50 and height>170):\n",
      "        count=count+1\n",
      "print \"Number of boys with weight < 50 kg\"\n",
      "print \"and height > 170 cm =%d\" %count\n"
     ],
     "language": "python",
     "metadata": {},
     "outputs": [
      {
       "output_type": "stream",
       "stream": "stdout",
       "text": [
        "Enter weight and height for 10 boys \n"
       ]
      },
      {
       "name": "stdout",
       "output_type": "stream",
       "stream": "stdout",
       "text": [
        "45 176.5\n"
       ]
      },
      {
       "name": "stdout",
       "output_type": "stream",
       "stream": "stdout",
       "text": [
        "55 174.2\n"
       ]
      },
      {
       "name": "stdout",
       "output_type": "stream",
       "stream": "stdout",
       "text": [
        "47 168.0\n"
       ]
      },
      {
       "name": "stdout",
       "output_type": "stream",
       "stream": "stdout",
       "text": [
        "49 170.7\n"
       ]
      },
      {
       "name": "stdout",
       "output_type": "stream",
       "stream": "stdout",
       "text": [
        "54 169.0\n"
       ]
      },
      {
       "name": "stdout",
       "output_type": "stream",
       "stream": "stdout",
       "text": [
        "53 170.5\n"
       ]
      },
      {
       "name": "stdout",
       "output_type": "stream",
       "stream": "stdout",
       "text": [
        "49 167.0\n"
       ]
      },
      {
       "name": "stdout",
       "output_type": "stream",
       "stream": "stdout",
       "text": [
        "48 175.0\n"
       ]
      },
      {
       "name": "stdout",
       "output_type": "stream",
       "stream": "stdout",
       "text": [
        "47 167\n"
       ]
      },
      {
       "name": "stdout",
       "output_type": "stream",
       "stream": "stdout",
       "text": [
        "51 170\n"
       ]
      },
      {
       "output_type": "stream",
       "stream": "stdout",
       "text": [
        "Number of boys with weight < 50 kg\n",
        "and height > 170 cm =3\n"
       ]
      }
     ],
     "prompt_number": 3
    },
    {
     "cell_type": "heading",
     "level": 2,
     "metadata": {},
     "source": [
      "Example 5.3, page 121"
     ]
    },
    {
     "cell_type": "code",
     "collapsed": false,
     "input": [
      "ACCURACY=0.0001\n",
      "i=1\n",
      "while i<=6:\n",
      "    x=float(raw_input(\"Enter value of x:\"))\n",
      "    n=term=Sum=count=1\n",
      "    while(n<=100):\n",
      "        term=term * x/n\n",
      "        Sum=Sum+term\n",
      "        count=count+1\n",
      "        if(term<ACCURACY):\n",
      "            n=999\n",
      "        else:\n",
      "            n=n+1\n",
      "    print \"Terms=%d Sum=%f\" %(count,Sum)\n",
      "    i=i+1\n",
      "            \n"
     ],
     "language": "python",
     "metadata": {},
     "outputs": [
      {
       "name": "stdout",
       "output_type": "stream",
       "stream": "stdout",
       "text": [
        "Enter value of x:0\n"
       ]
      },
      {
       "output_type": "stream",
       "stream": "stdout",
       "text": [
        "Terms=2 Sum=1.000000\n"
       ]
      },
      {
       "name": "stdout",
       "output_type": "stream",
       "stream": "stdout",
       "text": [
        "Enter value of x:0.1\n"
       ]
      },
      {
       "output_type": "stream",
       "stream": "stdout",
       "text": [
        "Terms=5 Sum=1.105171\n"
       ]
      },
      {
       "name": "stdout",
       "output_type": "stream",
       "stream": "stdout",
       "text": [
        "Enter value of x:0.5\n"
       ]
      },
      {
       "output_type": "stream",
       "stream": "stdout",
       "text": [
        "Terms=7 Sum=1.648720\n"
       ]
      },
      {
       "name": "stdout",
       "output_type": "stream",
       "stream": "stdout",
       "text": [
        "Enter value of x:0.75\n"
       ]
      },
      {
       "output_type": "stream",
       "stream": "stdout",
       "text": [
        "Terms=8 Sum=2.116997\n"
       ]
      },
      {
       "name": "stdout",
       "output_type": "stream",
       "stream": "stdout",
       "text": [
        "Enter value of x:0.99\n"
       ]
      },
      {
       "output_type": "stream",
       "stream": "stdout",
       "text": [
        "Terms=9 Sum=2.691232\n"
       ]
      },
      {
       "name": "stdout",
       "output_type": "stream",
       "stream": "stdout",
       "text": [
        "Enter value of x:1\n"
       ]
      },
      {
       "output_type": "stream",
       "stream": "stdout",
       "text": [
        "Terms=9 Sum=2.718279\n"
       ]
      }
     ],
     "prompt_number": 5
    },
    {
     "cell_type": "heading",
     "level": 2,
     "metadata": {},
     "source": [
      "Example 5.4, page 125"
     ]
    },
    {
     "cell_type": "code",
     "collapsed": false,
     "input": [
      "import sys\n",
      "line=raw_input(\"Enter three values \\n\")\n",
      "A,B,C = (float(n) for n in line.split())\n",
      "sys.stdout.write(\"Largest value is \")\n",
      "if(A>B):\n",
      "    if(A>C):\n",
      "        print \"%f\" %A\n",
      "    else:\n",
      "        print \"%f\" %C\n",
      "else:\n",
      "    if(C>B):\n",
      "        print \"%f\" %C\n",
      "    else:\n",
      "        print \"%f\" %B\n",
      "\n"
     ],
     "language": "python",
     "metadata": {},
     "outputs": [
      {
       "name": "stdout",
       "output_type": "stream",
       "stream": "stdout",
       "text": [
        "Enter three values \n",
        "23445 67378 88843\n"
       ]
      },
      {
       "output_type": "stream",
       "stream": "stdout",
       "text": [
        "Largest value is 88843.000000\n"
       ]
      }
     ],
     "prompt_number": 8
    },
    {
     "cell_type": "heading",
     "level": 2,
     "metadata": {},
     "source": [
      "    Example 5.5, page 128\n"
     ]
    },
    {
     "cell_type": "code",
     "collapsed": true,
     "input": [
      "i=1\n",
      "while i<=5:\n",
      "    line=raw_input(\"Enter CUSTOMER NO. and UNITS consumed \")\n",
      "    custnum,units = (float(n) for n in line.split())\n",
      "    if(units<=200):\n",
      "        charges=0.5*units\n",
      "    elif(units<=400):\n",
      "        charges=100+0.65*(units-200)\n",
      "    elif(units<=600):\n",
      "        charges=230+0.8*(units-400)\n",
      "    else:\n",
      "        charges=390+(units-600)\n",
      "    print \"Customer No: %d Charges= %.2f\" %(custnum,charges)\n",
      "    i=i+1\n",
      "\n"
     ],
     "language": "python",
     "metadata": {},
     "outputs": [
      {
       "name": "stdout",
       "output_type": "stream",
       "stream": "stdout",
       "text": [
        "Enter CUSTOMER NO. and UNITS consumed 101 150\n"
       ]
      },
      {
       "output_type": "stream",
       "stream": "stdout",
       "text": [
        "Customer No: 101 Charges= 75.00\n"
       ]
      },
      {
       "name": "stdout",
       "output_type": "stream",
       "stream": "stdout",
       "text": [
        "Enter CUSTOMER NO. and UNITS consumed 202 225\n"
       ]
      },
      {
       "output_type": "stream",
       "stream": "stdout",
       "text": [
        "Customer No: 202 Charges= 116.25\n"
       ]
      },
      {
       "name": "stdout",
       "output_type": "stream",
       "stream": "stdout",
       "text": [
        "Enter CUSTOMER NO. and UNITS consumed 303 175\n"
       ]
      },
      {
       "output_type": "stream",
       "stream": "stdout",
       "text": [
        "Customer No: 303 Charges= 87.50\n"
       ]
      },
      {
       "name": "stdout",
       "output_type": "stream",
       "stream": "stdout",
       "text": [
        "Enter CUSTOMER NO. and UNITS consumed 404 520\n"
       ]
      },
      {
       "output_type": "stream",
       "stream": "stdout",
       "text": [
        "Customer No: 404 Charges= 326.00\n"
       ]
      },
      {
       "name": "stdout",
       "output_type": "stream",
       "stream": "stdout",
       "text": [
        "Enter CUSTOMER NO. and UNITS consumed 505 625\n"
       ]
      },
      {
       "output_type": "stream",
       "stream": "stdout",
       "text": [
        "Customer No: 505 Charges= 415.00\n"
       ]
      }
     ],
     "prompt_number": 1
    },
    {
     "cell_type": "heading",
     "level": 2,
     "metadata": {},
     "source": [
      "Example 5.6, page 134"
     ]
    },
    {
     "cell_type": "code",
     "collapsed": false,
     "input": [
      "MAXLOAN=50000\n",
      "i=1\n",
      "while i<=2:\n",
      "    line=raw_input(\"Enter the values of previous two loans:\\n\")\n",
      "    loan3=int(raw_input(\"Enter the value of new loan:\\n\"))\n",
      "    loan1,loan2=(int(n) for n in line.split())\n",
      "    Sum=loan2+loan3\n",
      "    if(loan1>0):\n",
      "       sancloan= 0\n",
      "    else:\n",
      "        if(Sum>MAXLOAN):\n",
      "            sancloan=MAXLOAN-loan2\n",
      "        else:\n",
      "            sancloan=loan3\n",
      "    print \"Previous loan pending:\\n%d %d\" %(loan1,loan2)\n",
      "    print \"Loan requested = %d\" %loan3\n",
      "    print \"Loan sanctioned= %d\" %sancloan\n",
      "    i=i+1  "
     ],
     "language": "python",
     "metadata": {},
     "outputs": [
      {
       "name": "stdout",
       "output_type": "stream",
       "stream": "stdout",
       "text": [
        "Enter the values of previous two loans:\n",
        "0 20000\n"
       ]
      },
      {
       "name": "stdout",
       "output_type": "stream",
       "stream": "stdout",
       "text": [
        "Enter the value of new loan:\n",
        "45000\n"
       ]
      },
      {
       "output_type": "stream",
       "stream": "stdout",
       "text": [
        "Previous loan pending:\n",
        "0 20000\n",
        "Loan requested = 45000\n",
        "Loan sanctioned= 30000\n"
       ]
      },
      {
       "name": "stdout",
       "output_type": "stream",
       "stream": "stdout",
       "text": [
        "Enter the values of previous two loans:\n",
        "1000 15000\n"
       ]
      },
      {
       "name": "stdout",
       "output_type": "stream",
       "stream": "stdout",
       "text": [
        "Enter the value of new loan:\n",
        "25000\n"
       ]
      },
      {
       "output_type": "stream",
       "stream": "stdout",
       "text": [
        "Previous loan pending:\n",
        "1000 15000\n",
        "Loan requested = 25000\n",
        "Loan sanctioned= 0\n"
       ]
      }
     ],
     "prompt_number": 2
    },
    {
     "cell_type": "heading",
     "level": 2,
     "metadata": {},
     "source": [
      "Example 5.7, page 137"
     ]
    },
    {
     "cell_type": "code",
     "collapsed": false,
     "input": [
      "import math\n",
      "print \"Enter FIVE real values in a LINE\"\n",
      "s = raw_input()\n",
      "numbers = map(float, s.split())\n",
      "i=0\n",
      "while(i<5):\n",
      "    if(numbers[i]<0):\n",
      "        print \"Value - %d is negative\" %(i+1)\n",
      "    else:\n",
      "        y=math.sqrt(numbers[i])\n",
      "        print \"%f \\t %f\" %(numbers[i],y)\n",
      "    i=i+1\n",
      "print \"End of computation\"\n"
     ],
     "language": "python",
     "metadata": {},
     "outputs": [
      {
       "output_type": "stream",
       "stream": "stdout",
       "text": [
        "Enter FIVE real values in a LINE\n"
       ]
      },
      {
       "name": "stdout",
       "output_type": "stream",
       "stream": "stdout",
       "text": [
        "50.70 40 -36 75 11.25\n"
       ]
      },
      {
       "output_type": "stream",
       "stream": "stdout",
       "text": [
        "50.700000 \t 7.120393\n",
        "40.000000 \t 6.324555\n",
        "Value - 3 is negative\n",
        "75.000000 \t 8.660254\n",
        "11.250000 \t 3.354102\n",
        "End of computation\n"
       ]
      }
     ],
     "prompt_number": 5
    },
    {
     "cell_type": "heading",
     "level": 2,
     "metadata": {},
     "source": [
      "Case 1, page 139"
     ]
    },
    {
     "cell_type": "code",
     "collapsed": false,
     "input": [
      "print \"Enter numbers in a line: input a NEGATIVE number to end\"\n",
      "s = raw_input()\n",
      "values = map(float, s.split())\n",
      "del values[-1]\n",
      "print \"\\nTotal values : %d\" %(len(values))\n",
      "print \"Highest-value : %f\" %max(values)\n",
      "print \"Lowest-value : %f\" %min(values)\n",
      "print \"Range : %f\" %(max(values)-min(values))\n",
      "print \"Average : %f\" %(sum(values)/(len(values)))"
     ],
     "language": "python",
     "metadata": {},
     "outputs": [
      {
       "output_type": "stream",
       "stream": "stdout",
       "text": [
        "Enter numbers in a line: input a NEGATIVE number to end\n"
       ]
      },
      {
       "name": "stdout",
       "output_type": "stream",
       "stream": "stdout",
       "text": [
        "35 40.50 25 31.25 68.15 47 26.65 29 53.45 62.50 -1\n"
       ]
      },
      {
       "output_type": "stream",
       "stream": "stdout",
       "text": [
        "\n",
        "Total values : 10\n",
        "Highest-value : 68.150000\n",
        "Lowest-value : 25.000000\n",
        "Range : 43.150000\n",
        "Average : 41.850000\n"
       ]
      }
     ],
     "prompt_number": 6
    },
    {
     "cell_type": "heading",
     "level": 2,
     "metadata": {},
     "source": [
      "Case 2, page 141"
     ]
    },
    {
     "cell_type": "code",
     "collapsed": false,
     "input": [
      "CA1=1000\n",
      "CA2=750\n",
      "CA3=500\n",
      "CA4=250\n",
      "EA1=500\n",
      "EA2=200\n",
      "EA3=100\n",
      "EA4=0\n",
      "i=1\n",
      "\n",
      "while(i<=4):\n",
      "    print \"\\nEnter level,job number, and basic pay\"\n",
      "    print \"Enter 0(zero) for level to END\"\n",
      "    line=raw_input()\n",
      "    level,job,pay=(int(n) for n in line.split())\n",
      "    if level==1:\n",
      "        perks=CA1+EA1\n",
      "    elif level==2:\n",
      "        perks=CA2+EA2\n",
      "    elif level==3:\n",
      "        perks=CA3+EA3\n",
      "    elif level==4:\n",
      "        perks=CA4+EA4\n",
      "    else:\n",
      "        print \"Error in level code\"\n",
      "    house_rent=0.25*pay\n",
      "    gross=pay+house_rent+perks\n",
      "    if(gross<=2000):\n",
      "        tax=0\n",
      "    elif(gross<=4000):\n",
      "        tax=0.03*gross\n",
      "    elif(gross<=5000):\n",
      "        tax=0.05*gross\n",
      "    else:\n",
      "        tax=0.08*gross\n",
      "    net=gross-tax\n",
      "    print \"%d %d %.2f\" %(level,job,net)\n",
      "    i=i+1\n",
      "\n",
      "print \"\\nEnter level,job number, and basic pay\"\n",
      "level=int(raw_input(\"Enter 0(zero) for level to END\\n\"))\n",
      "print \"END OF THE PROGRAM\"\n",
      "     \n",
      "    \n"
     ],
     "language": "python",
     "metadata": {},
     "outputs": [
      {
       "output_type": "stream",
       "stream": "stdout",
       "text": [
        "\n",
        "Enter level,job number, and basic pay\n",
        "Enter 0(zero) for level to END\n"
       ]
      },
      {
       "name": "stdout",
       "output_type": "stream",
       "stream": "stdout",
       "text": [
        "1 1111 4000\n"
       ]
      },
      {
       "output_type": "stream",
       "stream": "stdout",
       "text": [
        "1 1111 5980.00\n",
        "\n",
        "Enter level,job number, and basic pay\n",
        "Enter 0(zero) for level to END\n"
       ]
      },
      {
       "name": "stdout",
       "output_type": "stream",
       "stream": "stdout",
       "text": [
        "2 2222 3000\n"
       ]
      },
      {
       "output_type": "stream",
       "stream": "stdout",
       "text": [
        "2 2222 4465.00\n",
        "\n",
        "Enter level,job number, and basic pay\n",
        "Enter 0(zero) for level to END\n"
       ]
      },
      {
       "name": "stdout",
       "output_type": "stream",
       "stream": "stdout",
       "text": [
        "3 3333 2000\n"
       ]
      },
      {
       "output_type": "stream",
       "stream": "stdout",
       "text": [
        "3 3333 3007.00\n",
        "\n",
        "Enter level,job number, and basic pay\n",
        "Enter 0(zero) for level to END\n"
       ]
      },
      {
       "name": "stdout",
       "output_type": "stream",
       "stream": "stdout",
       "text": [
        "4 4444 1000\n"
       ]
      },
      {
       "output_type": "stream",
       "stream": "stdout",
       "text": [
        "4 4444 1500.00\n",
        "\n",
        "Enter level,job number, and basic pay\n"
       ]
      },
      {
       "name": "stdout",
       "output_type": "stream",
       "stream": "stdout",
       "text": [
        "Enter 0(zero) for level to END\n",
        "0\n"
       ]
      },
      {
       "output_type": "stream",
       "stream": "stdout",
       "text": [
        "END OF THE PROGRAM\n"
       ]
      }
     ],
     "prompt_number": 7
    }
   ],
   "metadata": {}
  }
 ]
}