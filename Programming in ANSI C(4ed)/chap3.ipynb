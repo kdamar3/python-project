{
 "metadata": {
  "name": ""
 },
 "nbformat": 3,
 "nbformat_minor": 0,
 "worksheets": [
  {
   "cells": [
    {
     "cell_type": "heading",
     "level": 1,
     "metadata": {},
     "source": [
      "CHAPTER 3 - OPERATORS AND EXPRESSIONS - 8 EXAMPLES"
     ]
    },
    {
     "cell_type": "heading",
     "level": 2,
     "metadata": {},
     "source": [
      "Example 3.1, page 53"
     ]
    },
    {
     "cell_type": "code",
     "collapsed": false,
     "input": [
      "i=0\n",
      "while i<3:\n",
      "    days=int(raw_input(\"Enter days \\n\"))\n",
      "    months=days/30\n",
      "    days=days%30\n",
      "    print \"Months=%d Days=%d\" %(months,days)\n",
      "    i=i+1"
     ],
     "language": "python",
     "metadata": {},
     "outputs": [
      {
       "name": "stdout",
       "output_type": "stream",
       "stream": "stdout",
       "text": [
        "Enter days \n",
        "265\n"
       ]
      },
      {
       "output_type": "stream",
       "stream": "stdout",
       "text": [
        "Months=8 Days=25\n"
       ]
      },
      {
       "name": "stdout",
       "output_type": "stream",
       "stream": "stdout",
       "text": [
        "Enter days \n",
        "364\n"
       ]
      },
      {
       "output_type": "stream",
       "stream": "stdout",
       "text": [
        "Months=12 Days=4\n"
       ]
      },
      {
       "name": "stdout",
       "output_type": "stream",
       "stream": "stdout",
       "text": [
        "Enter days \n",
        "45\n"
       ]
      },
      {
       "output_type": "stream",
       "stream": "stdout",
       "text": [
        "Months=1 Days=15\n"
       ]
      }
     ],
     "prompt_number": 1
    },
    {
     "cell_type": "heading",
     "level": 2,
     "metadata": {},
     "source": [
      "Example 3.2, page 59"
     ]
    },
    {
     "cell_type": "code",
     "collapsed": false,
     "input": [
      "a=2\n",
      "while a<100:\n",
      "    print \"%d\" %a\n",
      "    a*=a\n"
     ],
     "language": "python",
     "metadata": {},
     "outputs": [
      {
       "output_type": "stream",
       "stream": "stdout",
       "text": [
        "2\n",
        "4\n",
        "16\n"
       ]
      }
     ],
     "prompt_number": 2
    },
    {
     "cell_type": "heading",
     "level": 2,
     "metadata": {},
     "source": [
      "Example 3.3, page62"
     ]
    },
    {
     "cell_type": "code",
     "collapsed": false,
     "input": [
      "import math \n",
      "a=15\n",
      "b=10\n",
      "c=(a+1)-b\n",
      "print \"a=%d b=%d c=%d\" %(a+1,b,c)\n",
      "d=(b+1)+a\n",
      "print \"a=%d b=%d d=%d\" %(a+1,b+1,d)\n",
      "j=(a+1)/(b+1)\n",
      "print \"a/b=%d\" %(j)\n",
      "k=(a+1)%(b+1)\n",
      "print \"a%%b=%d\" %(k)\n",
      "l=(a+1)*(b+1)\n",
      "print \"a*=b=%d\" %(l)\n",
      "print \"%d\" %(1 if(c>d) else 0)\n",
      "print \"%d\" %(1 if(c<d) else 0)"
     ],
     "language": "python",
     "metadata": {},
     "outputs": [
      {
       "output_type": "stream",
       "stream": "stdout",
       "text": [
        "a=16 b=10 c=6\n",
        "a=16 b=11 d=26\n",
        "a/b=1\n",
        "a%b=5\n",
        "a*=b=176\n",
        "0\n",
        "1\n"
       ]
      }
     ],
     "prompt_number": 3
    },
    {
     "cell_type": "heading",
     "level": 2,
     "metadata": {},
     "source": [
      "Example 3.4, page 64"
     ]
    },
    {
     "cell_type": "code",
     "collapsed": false,
     "input": [
      "a=9\n",
      "b=12\n",
      "c=3\n",
      "x=a-b/3+c*2-1\n",
      "y=a-b/(3+c)*(2-1)\n",
      "z=a-(b /(3+c)*2)-1\n",
      "print \"x=%f\" %x\n",
      "print \"y=%f\" %y\n",
      "print \"z=%f\" %z"
     ],
     "language": "python",
     "metadata": {},
     "outputs": [
      {
       "output_type": "stream",
       "stream": "stdout",
       "text": [
        "x=10.000000\n",
        "y=7.000000\n",
        "z=4.000000\n"
       ]
      }
     ],
     "prompt_number": 4
    },
    {
     "cell_type": "heading",
     "level": 2,
     "metadata": {},
     "source": [
      "Example 3.5, page 68"
     ]
    },
    {
     "cell_type": "code",
     "collapsed": false,
     "input": [
      "Sum=0\n",
      "count=1\n",
      "i=0\n",
      "while i<2:\n",
      "    n=raw_input(\"Enter value of n \\n\")\n",
      "    n=float(n)\n",
      "    term=1.0/n\n",
      "    while count<=n:\n",
      "        Sum=Sum+term\n",
      "        count=count+1\n",
      "    print \"Sum=%f\" %Sum      # example illustartes the floating point error and displays sum as 0.999999 instead of 1.3 for n=143\n",
      "    i=i+1 "
     ],
     "language": "python",
     "metadata": {},
     "outputs": [
      {
       "name": "stdout",
       "output_type": "stream",
       "stream": "stdout",
       "text": [
        "Enter value of n \n",
        "99\n"
       ]
      },
      {
       "output_type": "stream",
       "stream": "stdout",
       "text": [
        "Sum=1.000000\n"
       ]
      },
      {
       "name": "stdout",
       "output_type": "stream",
       "stream": "stdout",
       "text": [
        "Enter value of n \n",
        "143\n"
       ]
      },
      {
       "output_type": "stream",
       "stream": "stdout",
       "text": [
        "Sum=1.307692\n"
       ]
      }
     ],
     "prompt_number": 6
    },
    {
     "cell_type": "heading",
     "level": 2,
     "metadata": {},
     "source": [
      "Example 3.6, page 71"
     ]
    },
    {
     "cell_type": "code",
     "collapsed": false,
     "input": [
      "Sum=0\n",
      "for n in range(1,11,1):\n",
      "    Sum=Sum+1/(float(n))\n",
      "    print \"%2d %6.4f\\n\" %(n,Sum)"
     ],
     "language": "python",
     "metadata": {},
     "outputs": [
      {
       "output_type": "stream",
       "stream": "stdout",
       "text": [
        " 1 1.0000\n",
        "\n",
        " 2 1.5000\n",
        "\n",
        " 3 1.8333\n",
        "\n",
        " 4 2.0833\n",
        "\n",
        " 5 2.2833\n",
        "\n",
        " 6 2.4500\n",
        "\n",
        " 7 2.5929\n",
        "\n",
        " 8 2.7179\n",
        "\n",
        " 9 2.8290\n",
        "\n",
        "10 2.9290\n",
        "\n"
       ]
      }
     ],
     "prompt_number": 8
    },
    {
     "cell_type": "heading",
     "level": 2,
     "metadata": {},
     "source": [
      "Case 1, page 76"
     ]
    },
    {
     "cell_type": "code",
     "collapsed": false,
     "input": [
      "base_sal=1500.00\n",
      "bonus_rate=200.00\n",
      "commi=0.02\n",
      "line = raw_input(\"Input number sold and price \\n\")\n",
      "quant,pri = (float(n) for n in line.split())\n",
      "bonus=bonus_rate*quant\n",
      "commi=commi*quant*pri\n",
      "gross_sal=base_sal+bonus+commi\n",
      "print \"\\nBonus=%6.2f\" %bonus\n",
      "print \"Commission=%6.2f\" %commi\n",
      "print \"Gross salary=%6.2f\" %gross_sal\n"
     ],
     "language": "python",
     "metadata": {},
     "outputs": [
      {
       "name": "stdout",
       "output_type": "stream",
       "stream": "stdout",
       "text": [
        "Input number sold and price \n",
        "5 20450.00\n"
       ]
      },
      {
       "output_type": "stream",
       "stream": "stdout",
       "text": [
        "\n",
        "Bonus=1000.00\n",
        "Commission=2045.00\n",
        "Gross salary=4545.00\n"
       ]
      }
     ],
     "prompt_number": 9
    },
    {
     "cell_type": "heading",
     "level": 2,
     "metadata": {},
     "source": [
      "Case 2, page 77"
     ]
    },
    {
     "cell_type": "code",
     "collapsed": false,
     "input": [
      "import math\n",
      "i=0\n",
      "while i<2:\n",
      "    line = raw_input(\"Input values of a, b, and c \\n\")\n",
      "    a,b,c = (int(n) for n in line.split())\n",
      "    dis=b*b - 4*a*c\n",
      "    if(dis<0):\n",
      "        print \"ROOTS ARE IMAGINARY\"\n",
      "    else:\n",
      "        k=math.sqrt(dis)\n",
      "        r1=(-b+k)/(2.0*a)\n",
      "        r2=(-b-k)/(2.0*a) \n",
      "        print \"Root1=%5.2f\\nRoot2=%5.2f \" %(r1,r2)\n",
      "    i=i+1\n",
      "        \n"
     ],
     "language": "python",
     "metadata": {},
     "outputs": [
      {
       "name": "stdout",
       "output_type": "stream",
       "stream": "stdout",
       "text": [
        "Input values of a, b, and c \n",
        "2 4 -16\n"
       ]
      },
      {
       "output_type": "stream",
       "stream": "stdout",
       "text": [
        "Root1= 2.00\n",
        "Root2=-4.00 \n"
       ]
      },
      {
       "name": "stdout",
       "output_type": "stream",
       "stream": "stdout",
       "text": [
        "Input values of a, b, and c \n",
        "1 2 3\n"
       ]
      },
      {
       "output_type": "stream",
       "stream": "stdout",
       "text": [
        "ROOTS ARE IMAGINARY\n"
       ]
      }
     ],
     "prompt_number": 10
    }
   ],
   "metadata": {}
  }
 ]
}