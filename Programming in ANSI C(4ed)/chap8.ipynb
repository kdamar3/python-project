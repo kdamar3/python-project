{
 "metadata": {
  "name": ""
 },
 "nbformat": 3,
 "nbformat_minor": 0,
 "worksheets": [
  {
   "cells": [
    {
     "cell_type": "heading",
     "level": 1,
     "metadata": {},
     "source": [
      "CHAPTER 8 - CHARACTER ARRAYS AND STRINGS - 11 EXAMPLES"
     ]
    },
    {
     "cell_type": "heading",
     "level": 2,
     "metadata": {},
     "source": [
      "Example 8.1, page 232"
     ]
    },
    {
     "cell_type": "code",
     "collapsed": false,
     "input": [
      "i=1\n",
      "while i<=2:\n",
      "    print \"Enter text:\"\n",
      "    x=raw_input()\n",
      "    word1,word2,word3,word4=(str(i) for i in x.split())\n",
      "    print \"\\nword1=%s\\nword2=%s\\nword3=%s\\nword4=%s\\n\" %(word1,word2,word3,word4)\n",
      "    i=i+1\n"
     ],
     "language": "python",
     "metadata": {},
     "outputs": [
      {
       "output_type": "stream",
       "stream": "stdout",
       "text": [
        "Enter text:\n"
       ]
      },
      {
       "name": "stdout",
       "output_type": "stream",
       "stream": "stdout",
       "text": [
        "Oxford Road, London M17ED\n"
       ]
      },
      {
       "output_type": "stream",
       "stream": "stdout",
       "text": [
        "\n",
        "word1=Oxford\n",
        "word2=Road,\n",
        "word3=London\n",
        "word4=M17ED\n",
        "\n",
        "Enter text:\n"
       ]
      },
      {
       "name": "stdout",
       "output_type": "stream",
       "stream": "stdout",
       "text": [
        "Oxford-Road, London-M17ED United Kingdom\n"
       ]
      },
      {
       "output_type": "stream",
       "stream": "stdout",
       "text": [
        "\n",
        "word1=Oxford-Road,\n",
        "word2=London-M17ED\n",
        "word3=United\n",
        "word4=Kingdom\n",
        "\n"
       ]
      }
     ],
     "prompt_number": 1
    },
    {
     "cell_type": "heading",
     "level": 2,
     "metadata": {},
     "source": [
      "Example 8.2, page 234"
     ]
    },
    {
     "cell_type": "code",
     "collapsed": false,
     "input": [
      "i=1\n",
      "while i<=2:\n",
      "    x=raw_input(\"Enter Text. Press <Return> at end\\n\") #<return> implies \"\\n\" i.e.,pressing enter on console\n",
      "    print x\n",
      "    i=i+1             \n"
     ],
     "language": "python",
     "metadata": {},
     "outputs": [
      {
       "name": "stdout",
       "output_type": "stream",
       "stream": "stdout",
       "text": [
        "Enter Text. Press <Return> at end\n",
        "Programming in C is interesting.\n"
       ]
      },
      {
       "output_type": "stream",
       "stream": "stdout",
       "text": [
        "Programming in C is interesting.\n"
       ]
      },
      {
       "name": "stdout",
       "output_type": "stream",
       "stream": "stdout",
       "text": [
        "Enter Text. Press <Return> at end\n",
        "National Center for Expert Systems, Hyderabad.\n"
       ]
      },
      {
       "output_type": "stream",
       "stream": "stdout",
       "text": [
        "National Center for Expert Systems, Hyderabad.\n"
       ]
      }
     ],
     "prompt_number": 2
    },
    {
     "cell_type": "heading",
     "level": 2,
     "metadata": {},
     "source": [
      "Example 8.3, page 235"
     ]
    },
    {
     "cell_type": "code",
     "collapsed": false,
     "input": [
      "\n",
      "i=1\n",
      "while i<=2:\n",
      "    x=raw_input(\"Enter a string \\n?\")\n",
      "    print \"%s\" %x\n",
      "    l=sum(1 for c in str(x))\n",
      "    print \"Number of characters=%d\" %l\n",
      "    i=i+1\n"
     ],
     "language": "python",
     "metadata": {},
     "outputs": [
      {
       "name": "stdout",
       "output_type": "stream",
       "stream": "stdout",
       "text": [
        "Enter a string \n",
        "?Manchester\n"
       ]
      },
      {
       "output_type": "stream",
       "stream": "stdout",
       "text": [
        "Manchester\n",
        "Number of characters=10\n"
       ]
      },
      {
       "name": "stdout",
       "output_type": "stream",
       "stream": "stdout",
       "text": [
        "Enter a string \n",
        "?Westminster\n"
       ]
      },
      {
       "output_type": "stream",
       "stream": "stdout",
       "text": [
        "Westminster\n",
        "Number of characters=11\n"
       ]
      }
     ],
     "prompt_number": 1
    },
    {
     "cell_type": "heading",
     "level": 2,
     "metadata": {},
     "source": [
      "Example 8.4, page 237"
     ]
    },
    {
     "cell_type": "code",
     "collapsed": false,
     "input": [
      "x='United Kingdom'\n",
      "print \"*123456789012345*\\n-----\"\n",
      "print \"%14s\" %x\n",
      "print \"%5s\" %x\n",
      "print \"%13.6s\" %x\n",
      "print \"%-15.6s\" %x\n",
      "print \"%15.0s\" %x\n",
      "print \"%.3s\" %x\n",
      "print \"%s\" %x\n",
      "print \"-----\\n\""
     ],
     "language": "python",
     "metadata": {},
     "outputs": [
      {
       "output_type": "stream",
       "stream": "stdout",
       "text": [
        "*123456789012345*\n",
        "-----\n",
        "United Kingdom\n",
        "United Kingdom\n",
        "       United\n",
        "United         \n",
        "               \n",
        "Uni\n",
        "United Kingdom\n",
        "-----\n",
        "\n"
       ]
      }
     ],
     "prompt_number": 3
    },
    {
     "cell_type": "heading",
     "level": 2,
     "metadata": {},
     "source": [
      "Example 8.5, page 238"
     ]
    },
    {
     "cell_type": "code",
     "collapsed": false,
     "input": [
      "x=\"CProgramming\"\n",
      "l=[]\n",
      "len(x)\n",
      "print \"--------------\"\n",
      "for i in range(0,len(x)):\n",
      "    i=i+1\n",
      "    print \"|%-12.*s|\" %(i,x)\n",
      "    \n",
      "    \n",
      "    \n",
      "for i in range(len(x),0,-1):\n",
      "    print \"|%-12.*s|\" %(i,x)\n",
      "    i=i+1\n",
      "    \n",
      "print \"--------------\"    "
     ],
     "language": "python",
     "metadata": {},
     "outputs": [
      {
       "output_type": "stream",
       "stream": "stdout",
       "text": [
        "--------------\n",
        "|C           |\n",
        "|CP          |\n",
        "|CPr         |\n",
        "|CPro        |\n",
        "|CProg       |\n",
        "|CProgr      |\n",
        "|CProgra     |\n",
        "|CProgram    |\n",
        "|CProgramm   |\n",
        "|CProgrammi  |\n",
        "|CProgrammin |\n",
        "|CProgramming|\n",
        "|CProgramming|\n",
        "|CProgrammin |\n",
        "|CProgrammi  |\n",
        "|CProgramm   |\n",
        "|CProgram    |\n",
        "|CProgra     |\n",
        "|CProgr      |\n",
        "|CProg       |\n",
        "|CPro        |\n",
        "|CPr         |\n",
        "|CP          |\n",
        "|C           |\n",
        "--------------\n"
       ]
      }
     ],
     "prompt_number": 4
    },
    {
     "cell_type": "heading",
     "level": 2,
     "metadata": {},
     "source": [
      "Example 8.6, page 242"
     ]
    },
    {
     "cell_type": "code",
     "collapsed": false,
     "input": [
      "for i in range(65,91):\n",
      "    print \"|%4d - %c\" %(i,chr(i)),\n",
      "for i in range(97,123):\n",
      "    print \"|%4d - %c\" %(i,chr(i)),\n",
      "print \"|\"\n"
     ],
     "language": "python",
     "metadata": {},
     "outputs": [
      {
       "output_type": "stream",
       "stream": "stdout",
       "text": [
        "|  65 - A |  66 - B |  67 - C |  68 - D |  69 - E |  70 - F |  71 - G |  72 - H |  73 - I |  74 - J |  75 - K |  76 - L |  77 - M |  78 - N |  79 - O |  80 - P |  81 - Q |  82 - R |  83 - S |  84 - T |  85 - U |  86 - V |  87 - W |  88 - X |  89 - Y |  90 - Z |  97 - a |  98 - b |  99 - c | 100 - d | 101 - e | 102 - f | 103 - g | 104 - h | 105 - i | 106 - j | 107 - k | 108 - l | 109 - m | 110 - n | 111 - o | 112 - p | 113 - q | 114 - r | 115 - s | 116 - t | 117 - u | 118 - v | 119 - w | 120 - x | 121 - y | 122 - z |\n"
       ]
      }
     ],
     "prompt_number": 6
    },
    {
     "cell_type": "heading",
     "level": 2,
     "metadata": {},
     "source": [
      "Example 8.7, page 243"
     ]
    },
    {
     "cell_type": "code",
     "collapsed": false,
     "input": [
      "s1=\"VISWANATH \"\n",
      "s2=\"PRATAP \"\n",
      "s3=\"SINGH\"\n",
      "print \"%s%s%s\" %(s1,s2,s3)"
     ],
     "language": "python",
     "metadata": {},
     "outputs": [
      {
       "output_type": "stream",
       "stream": "stdout",
       "text": [
        "VISWANATH PRATAP SINGH\n"
       ]
      }
     ],
     "prompt_number": 7
    },
    {
     "cell_type": "heading",
     "level": 2,
     "metadata": {},
     "source": [
      "Example 8.8, page 247"
     ]
    },
    {
     "cell_type": "code",
     "collapsed": false,
     "input": [
      "#example no. is given wrong in textbook.this is example no.8.8 not 8.6\n",
      "i=1\n",
      "while i<=2:\n",
      "    x=raw_input(\"Enter two string constants\\n?\")\n",
      "    s1,s2=(str(i) for i in x.split())\n",
      "    if(s1==s2):\n",
      "        print \"Strings are equal\"\n",
      "        s3=s1\n",
      "    else:\n",
      "        print \"Strings are not equal\"\n",
      "        s3=s1+s2\n",
      "        s1=s3\n",
      "    print \"s1 = %s  length = %d characters\" %(s1,len(s1))\n",
      "    print \"s2 = %s  length = %d characters\" %(s2,len(s2))\n",
      "    print \"s3 = %s  length = %d characters\" %(s3,len(s3))\n",
      "    i=i+1\n"
     ],
     "language": "python",
     "metadata": {},
     "outputs": [
      {
       "name": "stdout",
       "output_type": "stream",
       "stream": "stdout",
       "text": [
        "Enter two string constants\n",
        "?New York\n"
       ]
      },
      {
       "output_type": "stream",
       "stream": "stdout",
       "text": [
        "Strings are not equal\n",
        "s1 = NewYork  length = 7 characters\n",
        "s2 = York  length = 4 characters\n",
        "s3 = NewYork  length = 7 characters\n"
       ]
      },
      {
       "name": "stdout",
       "output_type": "stream",
       "stream": "stdout",
       "text": [
        "Enter two string constants\n",
        "?London London\n"
       ]
      },
      {
       "output_type": "stream",
       "stream": "stdout",
       "text": [
        "Strings are equal\n",
        "s1 = London  length = 6 characters\n",
        "s2 = London  length = 6 characters\n",
        "s3 = London  length = 6 characters\n"
       ]
      }
     ],
     "prompt_number": 8
    },
    {
     "cell_type": "heading",
     "level": 2,
     "metadata": {},
     "source": [
      "Example 8.9, page 251"
     ]
    },
    {
     "cell_type": "code",
     "collapsed": false,
     "input": [
      "items=5\n",
      "print \"Enter names of %d items \" %items\n",
      "words= raw_input().split()\n",
      "words.sort()\n",
      "print \"\\nAlphabetical List\\n\"\n",
      "for i in words:\n",
      "    print(i)\n"
     ],
     "language": "python",
     "metadata": {},
     "outputs": [
      {
       "output_type": "stream",
       "stream": "stdout",
       "text": [
        "Enter names of 5 items \n"
       ]
      },
      {
       "name": "stdout",
       "output_type": "stream",
       "stream": "stdout",
       "text": [
        "London Manchester Delhi Paris Moscow\n"
       ]
      },
      {
       "output_type": "stream",
       "stream": "stdout",
       "text": [
        "\n",
        "Alphabetical List\n",
        "\n",
        "Delhi\n",
        "London\n",
        "Manchester\n",
        "Moscow\n",
        "Paris\n"
       ]
      }
     ],
     "prompt_number": 10
    },
    {
     "cell_type": "heading",
     "level": 2,
     "metadata": {},
     "source": [
      "Case 1, page 253"
     ]
    },
    {
     "cell_type": "code",
     "collapsed": false,
     "input": [
      "print \"KEY IN THE TEXT.\"\n",
      "print \"GIVE ONE SPACE AFTER EACH WORD.\"\n",
      "print \"WHEN COMPLETED, PRESS 'RETURN'.\\n\"\n",
      "sentinel = '' # ends when this string is seen\n",
      "k=0\n",
      "w=0\n",
      "x=0\n",
      "for line in iter(raw_input, sentinel):\n",
      "    k=k+1\n",
      "    words=line.split()\n",
      "    b=len(words)\n",
      "    w=w+b\n",
      "    charac=sum(c != '.' for c in line)\n",
      "    x=x+charac\n",
      "    pass\n",
      "\n",
      "print \"Number of lines = %d\" %k\n",
      "print \"Number of words = %d\" %w\n",
      "print \"Number of characters = %d\" %(x+k-1)\n",
      "\n",
      "    \n"
     ],
     "language": "python",
     "metadata": {},
     "outputs": [
      {
       "output_type": "stream",
       "stream": "stdout",
       "text": [
        "KEY IN THE TEXT.\n",
        "GIVE ONE SPACE AFTER EACH WORD.\n",
        "WHEN COMPLETED, PRESS 'RETURN'.\n",
        "\n"
       ]
      },
      {
       "name": "stdout",
       "output_type": "stream",
       "stream": "stdout",
       "text": [
        "Admiration is a very short-lived passion.\n"
       ]
      },
      {
       "name": "stdout",
       "output_type": "stream",
       "stream": "stdout",
       "text": [
        "Admiration involves a glorious obliquity of vision.\n"
       ]
      },
      {
       "name": "stdout",
       "output_type": "stream",
       "stream": "stdout",
       "text": [
        "Always we like those who admire us but we do not\n"
       ]
      },
      {
       "name": "stdout",
       "output_type": "stream",
       "stream": "stdout",
       "text": [
        "like those whom we admire.\n"
       ]
      },
      {
       "name": "stdout",
       "output_type": "stream",
       "stream": "stdout",
       "text": [
        "Fools admire, but men of sense approve.\n"
       ]
      },
      {
       "name": "stdout",
       "output_type": "stream",
       "stream": "stdout",
       "text": [
        "\n"
       ]
      },
      {
       "output_type": "stream",
       "stream": "stdout",
       "text": [
        "Number of lines = 5\n",
        "Number of words = 36\n",
        "Number of characters = 205\n"
       ]
      }
     ],
     "prompt_number": 3
    },
    {
     "cell_type": "heading",
     "level": 2,
     "metadata": {},
     "source": [
      "Case 2, page 255"
     ]
    },
    {
     "cell_type": "code",
     "collapsed": false,
     "input": [
      "f=[]\n",
      "k=[]\n",
      "print \"Input names and telephone numbers\\n?\",\n",
      "for line in iter(raw_input, ''):\n",
      "    words=line.split()\n",
      "    s1=','\n",
      "    s2='.'\n",
      "    s3=20*' '\n",
      "    y=words[2]+s1+words[0][0]+s2+words[1][0]+s3+words[3]\n",
      "    nam=\"\".join(str(x) for x in list(y))\n",
      "    f.append(nam)\n",
      "    pass\n",
      "f.sort()\n",
      "print \"CUSTOMERS LIST IN ALPHABETICAL ORDER\\n\"\n",
      "for i in f:\n",
      "    print i\n"
     ],
     "language": "python",
     "metadata": {},
     "outputs": [
      {
       "output_type": "stream",
       "stream": "stdout",
       "text": [
        "Input names and telephone numbers\n",
        "?"
       ]
      },
      {
       "name": "stdout",
       "output_type": "stream",
       "stream": "stdout",
       "text": [
        "Gotfried Wilheim Leibniz 711518\n"
       ]
      },
      {
       "name": "stdout",
       "output_type": "stream",
       "stream": "stdout",
       "text": [
        "Joseph Louis Lagrange 869245\n"
       ]
      },
      {
       "name": "stdout",
       "output_type": "stream",
       "stream": "stdout",
       "text": [
        "Jean Robert Argand 900823\n"
       ]
      },
      {
       "name": "stdout",
       "output_type": "stream",
       "stream": "stdout",
       "text": [
        "Carl Freidrich Gauss 806788\n"
       ]
      },
      {
       "name": "stdout",
       "output_type": "stream",
       "stream": "stdout",
       "text": [
        "Simon Denis Poisson 853240\n"
       ]
      },
      {
       "name": "stdout",
       "output_type": "stream",
       "stream": "stdout",
       "text": [
        "Friedrich Wilhelm Bessel 719731\n"
       ]
      },
      {
       "name": "stdout",
       "output_type": "stream",
       "stream": "stdout",
       "text": [
        "Charles Francois Strum 222031\n"
       ]
      },
      {
       "name": "stdout",
       "output_type": "stream",
       "stream": "stdout",
       "text": [
        "George Gabriel Stokes 545454\n"
       ]
      },
      {
       "name": "stdout",
       "output_type": "stream",
       "stream": "stdout",
       "text": [
        "Mohandas Karamchand Gandhi 362718\n"
       ]
      },
      {
       "name": "stdout",
       "output_type": "stream",
       "stream": "stdout",
       "text": [
        "Josian Willard Gibbs 123145\n"
       ]
      },
      {
       "name": "stdout",
       "output_type": "stream",
       "stream": "stdout",
       "text": [
        "\n"
       ]
      },
      {
       "output_type": "stream",
       "stream": "stdout",
       "text": [
        " CUSTOMERS LIST IN ALPHABETICAL ORDER\n",
        "\n",
        "Argand,J.R                    900823\n",
        "Bessel,F.W                    719731\n",
        "Gandhi,M.K                    362718\n",
        "Gauss,C.F                    806788\n",
        "Gibbs,J.W                    123145\n",
        "Lagrange,J.L                    869245\n",
        "Leibniz,G.W                    711518\n",
        "Poisson,S.D                    853240\n",
        "Stokes,G.G                    545454\n",
        "Strum,C.F                    222031\n"
       ]
      }
     ],
     "prompt_number": 2
    }
   ],
   "metadata": {}
  }
 ]
}