{
 "metadata": {
  "name": ""
 },
 "nbformat": 3,
 "nbformat_minor": 0,
 "worksheets": [
  {
   "cells": [
    {
     "cell_type": "heading",
     "level": 1,
     "metadata": {},
     "source": [
      "CHAPTER 7 - ARRAYS - 9 EXAMPLES"
     ]
    },
    {
     "cell_type": "heading",
     "level": 2,
     "metadata": {},
     "source": [
      "Example 7.1, page 194"
     ]
    },
    {
     "cell_type": "code",
     "collapsed": false,
     "input": [
      "x=[]\n",
      "print \"ENTER 10 REAL NUMBERS\"\n",
      "val=raw_input()\n",
      "x=list(str(i) for i in val.split())\n",
      "x=map(float,x)\n",
      "tot=0.0\n",
      "for i in range(0,10,1):\n",
      "    tot=tot+x[i]*x[i]\n",
      "for i in range(0,10,1):\n",
      "    print \"x[%2d]=%5.2f\" %(i+1,x[i])\n",
      "print \"\\ntotal=%.2f\" %tot\n",
      "  \n"
     ],
     "language": "python",
     "metadata": {},
     "outputs": [
      {
       "output_type": "stream",
       "stream": "stdout",
       "text": [
        "ENTER 10 REAL NUMBERS\n"
       ]
      },
      {
       "name": "stdout",
       "output_type": "stream",
       "stream": "stdout",
       "text": [
        "1.1 2.2 3.3 4.4 5.5 6.6 7.7 8.8 9.9 10.10\n"
       ]
      },
      {
       "output_type": "stream",
       "stream": "stdout",
       "text": [
        "x[ 1]= 1.10\n",
        "x[ 2]= 2.20\n",
        "x[ 3]= 3.30\n",
        "x[ 4]= 4.40\n",
        "x[ 5]= 5.50\n",
        "x[ 6]= 6.60\n",
        "x[ 7]= 7.70\n",
        "x[ 8]= 8.80\n",
        "x[ 9]= 9.90\n",
        "x[10]=10.10\n",
        "\n",
        "total=446.86\n"
       ]
      }
     ],
     "prompt_number": 1
    },
    {
     "cell_type": "heading",
     "level": 2,
     "metadata": {},
     "source": [
      "Example 7.2, page 197"
     ]
    },
    {
     "cell_type": "code",
     "collapsed": false,
     "input": [
      "val=[]\n",
      "g=[0,0,0,0,0,0,0,0,0,0,0]\n",
      "x=raw_input()\n",
      "val=list(str(i) for i in x.split())\n",
      "val=map(int,val)\n",
      "for i in range(0,len(val),1):\n",
      "    g[int(val[i]/10)]=g[int(val[i]/10)]+1\n",
      "print \"GROUP          RANGE       FREQUENCY\"\n",
      "for i in range(0,11,1):\n",
      "    low=i*10\n",
      "    if(i==10):\n",
      "        high=100\n",
      "    else:\n",
      "        high=low+9\n",
      "    print \" %2d        %3d to %3d          %d\" %(i+1,low,high,g[i])\n",
      "    \n"
     ],
     "language": "python",
     "metadata": {},
     "outputs": [
      {
       "name": "stdout",
       "output_type": "stream",
       "stream": "stdout",
       "text": [
        "43 65 51 27 79 11 56 61 82 09 25 36 07 49 55 63 74 81 49 37 40 49 16 75 87 91 33 24 58 78 65 56 76 67 45 54 36 63 12 21 73 49 51 19 39 49 68 93 85 59\n"
       ]
      },
      {
       "output_type": "stream",
       "stream": "stdout",
       "text": [
        "GROUP          RANGE       FREQUENCY\n",
        "  1          0 to   9          2\n",
        "  2         10 to  19          4\n",
        "  3         20 to  29          4\n",
        "  4         30 to  39          5\n",
        "  5         40 to  49          8\n",
        "  6         50 to  59          8\n",
        "  7         60 to  69          7\n",
        "  8         70 to  79          6\n",
        "  9         80 to  89          4\n",
        " 10         90 to  99          2\n",
        " 11        100 to 100          0\n"
       ]
      }
     ],
     "prompt_number": 2
    },
    {
     "cell_type": "heading",
     "level": 2,
     "metadata": {},
     "source": [
      "Example 7.3, page 202"
     ]
    },
    {
     "cell_type": "code",
     "collapsed": false,
     "input": [
      "import numpy\n",
      "print \"Input data\"\n",
      "print \"Enter values , one at a time, row-wise\"\n",
      "  \n",
      "m=numpy.zeros((4, 3))\n",
      "girl_tot=numpy.zeros((4,1))\n",
      "item_tot=numpy.zeros((4,1))\n",
      "grand_tot=0\n",
      "item_tot=0\n",
      "\n",
      "for i in range(0,4,1):\n",
      "    val=raw_input()\n",
      "    m[i]=list(str(i) for i in val.split())\n",
      "    girl_tot[i]=numpy.sum(m[i])\n",
      "    grand_tot=grand_tot+girl_tot[i]\n",
      "\n",
      "item_tot = [ sum(i) for i in zip(*m) ]\n",
      "\n",
      "print \"\\nGIRLS TOTALS\\n\"\n",
      "for i in range(0,4,1):\n",
      "    print \"Salesgirl[%d]=%d\" %(i+1,girl_tot[i])\n",
      "    \n",
      "print \"\\nITEMS TOTALS\\n\"\n",
      "for j in range(0,3,1):\n",
      "    print \"Item[%d]=%d\" %(j+1,item_tot[j])\n",
      "    \n",
      "print \"\\nGrand Total =%d\" %(grand_tot)\n",
      "#salesgirl[1] sum is given wrong in textbook.\n",
      "#salesgirl[1] sum given in textbook is 950 instead of 932. this resulted in change in grand total too.   \n",
      "    \n"
     ],
     "language": "python",
     "metadata": {},
     "outputs": [
      {
       "output_type": "stream",
       "stream": "stdout",
       "text": [
        "Input data\n",
        "Enter values , one at a time, row-wise\n"
       ]
      },
      {
       "name": "stdout",
       "output_type": "stream",
       "stream": "stdout",
       "text": [
        "310 257 365\n"
       ]
      },
      {
       "name": "stdout",
       "output_type": "stream",
       "stream": "stdout",
       "text": [
        "210 190 325\n"
       ]
      },
      {
       "name": "stdout",
       "output_type": "stream",
       "stream": "stdout",
       "text": [
        "405 235 240\n"
       ]
      },
      {
       "name": "stdout",
       "output_type": "stream",
       "stream": "stdout",
       "text": [
        "260 300 380\n"
       ]
      },
      {
       "output_type": "stream",
       "stream": "stdout",
       "text": [
        "\n",
        "GIRLS TOTALS\n",
        "\n",
        "Salesgirl[1]=932\n",
        "Salesgirl[2]=725\n",
        "Salesgirl[3]=880\n",
        "Salesgirl[4]=940\n",
        "\n",
        "ITEMS TOTALS\n",
        "\n",
        "Item[1]=1185\n",
        "Item[2]=982\n",
        "Item[3]=1310\n",
        "\n",
        "Grand Total =3477\n"
       ]
      }
     ],
     "prompt_number": 3
    },
    {
     "cell_type": "heading",
     "level": 2,
     "metadata": {},
     "source": [
      "Example 7.4, page 202"
     ]
    },
    {
     "cell_type": "code",
     "collapsed": false,
     "input": [
      "import numpy\n",
      "print \"       MULTIPLICATION TABLE\"\n",
      "product=numpy.zeros((5,5))\n",
      "print \"    \",\n",
      "for j in range(0,5,1):\n",
      "    print \"%4d\" %(j+1),\n",
      "print \"\\n___________________________________\"\n",
      "for i in range(0,5,1):\n",
      "    print \"\\n\",\n",
      "    print \"%2d |\" %(i+1),\n",
      "    for j in range(0,5,1):\n",
      "        product[i][j]=(i+1)*(j+1)\n",
      "        print \"%4d\" %product[i][j],      \n",
      "  \n"
     ],
     "language": "python",
     "metadata": {},
     "outputs": [
      {
       "output_type": "stream",
       "stream": "stdout",
       "text": [
        "       MULTIPLICATION TABLE\n",
        "        1    2    3    4    5 \n",
        "___________________________________\n",
        "\n",
        " 1 |    1    2    3    4    5 \n",
        " 2 |    2    4    6    8   10 \n",
        " 3 |    3    6    9   12   15 \n",
        " 4 |    4    8   12   16   20 \n",
        " 5 |    5   10   15   20   25\n"
       ]
      }
     ],
     "prompt_number": 4
    },
    {
     "cell_type": "heading",
     "level": 2,
     "metadata": {},
     "source": [
      "Example 7.5, page 204"
     ]
    },
    {
     "cell_type": "code",
     "collapsed": false,
     "input": [
      "lst=[]\n",
      "from collections import Counter\n",
      "import numpy as np\n",
      "print \"For each person, enter the city code \"\n",
      "print \"followed by the car code\"\n",
      "print \"Enter the letter X to indicate end.\"\n",
      "for i in range(0,6):\n",
      "    val=raw_input()\n",
      "    m=[str(i) for i in val.split()]\n",
      "    lst.append(m)\n",
      "lst=sum(lst,[])\n",
      "lst.append(raw_input())\n",
      "sorted(lst)\n",
      "C=Counter(lst)\n",
      "print \"                  POPULARITY TABLE                     \"\n",
      "print \"_______________________________________________________\"\n",
      "print \"City        Ambassador     Fiat     Dolphin     Maruti\"\n",
      "print \"_______________________________________________________\"\n",
      "print \"Bombay   %10s %10s %10s %10s\" %(C['B1'],C['B2'],C['B3'],C['B4'])\n",
      "print \"Calcutta %10s %10s %10s %10s\" %(C['C1'],C['C2'],C['C3'],C['C4'])\n",
      "print \"Delhi    %10s %10s %10s %10s\" %(C['D1'],C['D2'],C['D3'],C['D4'])\n",
      "print \"Madras   %10s %10s %10s %10s\" %(C['M1'],C['M2'],C['M3'],C['M4'])\n",
      "print \"_______________________________________________________\"\n",
      "\n",
      "\n",
      "   \n"
     ],
     "language": "python",
     "metadata": {},
     "outputs": [
      {
       "output_type": "stream",
       "stream": "stdout",
       "text": [
        "For each person, enter the city code \n",
        "followed by the car code\n",
        "Enter the letter X to indicate end.\n"
       ]
      },
      {
       "name": "stdout",
       "output_type": "stream",
       "stream": "stdout",
       "text": [
        "M1 C2 B1 D3 M2 B4\n"
       ]
      },
      {
       "name": "stdout",
       "output_type": "stream",
       "stream": "stdout",
       "text": [
        "C1 D3 M4 B2 D1 C3\n"
       ]
      },
      {
       "name": "stdout",
       "output_type": "stream",
       "stream": "stdout",
       "text": [
        "D4 D4 M1 M1 B3 B3\n"
       ]
      },
      {
       "name": "stdout",
       "output_type": "stream",
       "stream": "stdout",
       "text": [
        "C1 C1 C2 M4 M4 C2\n"
       ]
      },
      {
       "name": "stdout",
       "output_type": "stream",
       "stream": "stdout",
       "text": [
        "D1 C2 B3 M1 B1 C2\n"
       ]
      },
      {
       "name": "stdout",
       "output_type": "stream",
       "stream": "stdout",
       "text": [
        "D3 M4 C1 D2 M3 B4\n"
       ]
      },
      {
       "name": "stdout",
       "output_type": "stream",
       "stream": "stdout",
       "text": [
        "X\n"
       ]
      },
      {
       "output_type": "stream",
       "stream": "stdout",
       "text": [
        "                  POPULARITY TABLE                     \n",
        "_______________________________________________________\n",
        "City        Ambassador     Fiat     Dolphin     Maruti\n",
        "_______________________________________________________\n",
        "Bombay            2          1          3          2\n",
        "Calcutta          4          5          1          0\n",
        "Delhi             2          1          3          2\n",
        "Madras            4          1          1          4\n",
        "_______________________________________________________\n"
       ]
      }
     ],
     "prompt_number": 6
    },
    {
     "cell_type": "heading",
     "level": 2,
     "metadata": {},
     "source": [
      "Case 1, page 212"
     ]
    },
    {
     "cell_type": "code",
     "collapsed": false,
     "input": [
      "\n",
      "i=1\n",
      "while i<=2:\n",
      "    a=[]\n",
      "    n=int(raw_input( \"Enter the number of items\\n\"))\n",
      "    print \"Input %d values\" %n\n",
      "    x=raw_input()\n",
      "    a=list(str(i) for i in x.split())\n",
      "    a=map(float,a)\n",
      "    a=(sorted(a))\n",
      "    a.reverse()\n",
      "    for p in a: print \"%.6f\" %p,\n",
      "    if(n%2==0):\n",
      "        median=(a[n/2]+a[n/2-1])/2.0\n",
      "    else:\n",
      "        median=sorted(a)[len(a)/2]\n",
      "    print \"\\nMedian is %f\" %median\n",
      "    i=i+1\n"
     ],
     "language": "python",
     "metadata": {},
     "outputs": [
      {
       "name": "stdout",
       "output_type": "stream",
       "stream": "stdout",
       "text": [
        "Enter the number of items\n",
        "5\n"
       ]
      },
      {
       "output_type": "stream",
       "stream": "stdout",
       "text": [
        "Input 5 values\n"
       ]
      },
      {
       "name": "stdout",
       "output_type": "stream",
       "stream": "stdout",
       "text": [
        "1.111 2.222 3.333 4.444 5.555\n"
       ]
      },
      {
       "output_type": "stream",
       "stream": "stdout",
       "text": [
        "5.555000 4.444000 3.333000 2.222000 1.111000 \n",
        "Median is 3.333000\n"
       ]
      },
      {
       "name": "stdout",
       "output_type": "stream",
       "stream": "stdout",
       "text": [
        "Enter the number of items\n",
        "6\n"
       ]
      },
      {
       "output_type": "stream",
       "stream": "stdout",
       "text": [
        "Input 6 values\n"
       ]
      },
      {
       "name": "stdout",
       "output_type": "stream",
       "stream": "stdout",
       "text": [
        "3 5 8 9 4 6\n"
       ]
      },
      {
       "output_type": "stream",
       "stream": "stdout",
       "text": [
        "9.000000 8.000000 6.000000 5.000000 4.000000 3.000000 \n",
        "Median is 5.500000\n"
       ]
      }
     ],
     "prompt_number": 2
    },
    {
     "cell_type": "heading",
     "level": 2,
     "metadata": {},
     "source": [
      "Case 2, page 214"
     ]
    },
    {
     "cell_type": "code",
     "collapsed": false,
     "input": [
      "import numpy as np\n",
      "import math\n",
      "x=raw_input(\"Input values: input -1 to end\\n\")\n",
      "x=list(str(i) for i in x.split())\n",
      "x=map(int,x)\n",
      "print \"\\nNumber of items : %d\\n\" %(len(x)-1)\n",
      "del x[-1]\n",
      "print \"Mean : %f\" %((float(sum(x))/len(x)))\n",
      "print \"Standard deviation : %f\" %(np.std(x))\n"
     ],
     "language": "python",
     "metadata": {},
     "outputs": [
      {
       "name": "stdout",
       "output_type": "stream",
       "stream": "stdout",
       "text": [
        "Input values: input -1 to end\n",
        "65 9 27 78 12 20 33 49 -1\n"
       ]
      },
      {
       "output_type": "stream",
       "stream": "stdout",
       "text": [
        "\n",
        "Number of items : 8\n",
        "\n",
        "Mean : 36.625000\n",
        "Standard deviation : 23.510304\n"
       ]
      }
     ],
     "prompt_number": 3
    },
    {
     "cell_type": "heading",
     "level": 2,
     "metadata": {},
     "source": [
      "Case 3, page 215"
     ]
    },
    {
     "cell_type": "code",
     "collapsed": false,
     "input": [
      "x=raw_input(\"Input key to the items\\n\")\n",
      "for i in range(1,4):\n",
      "    k=0\n",
      "    print \"Input responses of Student-%d\" %i\n",
      "    s=raw_input()\n",
      "    print \"Student-%d\" %i\n",
      "    l=[]\n",
      "    for i in range(len(x)):\n",
      "        if x[i]==s[i]:\n",
      "            k=k+1\n",
      "        else:\n",
      "            l.append(i+1)\n",
      "            l1=' '.join(str(i) for i in l)\n",
      "    \n",
      "    print \"Score is %d out of %d\" %(k,len(x))\n",
      "    if(l==[]):\n",
      "        print \"Response to the following items are wrong\\nNIL\"\n",
      "    else:\n",
      "        print \"Response to the following items are wrong\\n%s\" %l1\n",
      "    \n"
     ],
     "language": "python",
     "metadata": {},
     "outputs": [
      {
       "name": "stdout",
       "output_type": "stream",
       "stream": "stdout",
       "text": [
        "Input key to the items\n",
        "abcdabcdabcdabcdabcdabcda\n"
       ]
      },
      {
       "output_type": "stream",
       "stream": "stdout",
       "text": [
        "Input responses of Student-1\n"
       ]
      },
      {
       "name": "stdout",
       "output_type": "stream",
       "stream": "stdout",
       "text": [
        "abcdabcdabcdabcdabcdabcda\n"
       ]
      },
      {
       "output_type": "stream",
       "stream": "stdout",
       "text": [
        "Student-1\n",
        "Score is 25 out of 25\n",
        "Response to the following items are wrong\n",
        "NIL\n",
        "Input responses of Student-2\n"
       ]
      },
      {
       "name": "stdout",
       "output_type": "stream",
       "stream": "stdout",
       "text": [
        "abcddcbaabcdabcdddddddddd\n"
       ]
      },
      {
       "output_type": "stream",
       "stream": "stdout",
       "text": [
        "Student-2\n",
        "Score is 14 out of 25\n",
        "Response to the following items are wrong\n",
        "5 6 7 8 17 18 19 21 22 23 25\n",
        "Input responses of Student-3\n"
       ]
      },
      {
       "name": "stdout",
       "output_type": "stream",
       "stream": "stdout",
       "text": [
        "aaaaaaaaaaaaaaaaaaaaaaaaa\n"
       ]
      },
      {
       "output_type": "stream",
       "stream": "stdout",
       "text": [
        "Student-3\n",
        "Score is 7 out of 25\n",
        "Response to the following items are wrong\n",
        "2 3 4 6 7 8 10 11 12 14 15 16 18 19 20 22 23 24\n"
       ]
      }
     ],
     "prompt_number": 5
    },
    {
     "cell_type": "heading",
     "level": 2,
     "metadata": {},
     "source": [
      "Case 4, page 218"
     ]
    },
    {
     "cell_type": "code",
     "collapsed": false,
     "input": [
      "\n",
      "import numpy as np\n",
      "mlist=[]\n",
      "slist=[]\n",
      "mplist=[]\n",
      "mslist=[]\n",
      "totprod=0\n",
      "totsales=0\n",
      "\n",
      "\n",
      "print \"Enter products manufactured week_wise \\nM11, M12,----, M21, M22, ---- etc\"\n",
      "#m=np.zeros((5,4),dtype=object)\n",
      "for i in range(0,4,1):\n",
      "    val=raw_input()\n",
      "    m=[int(i) for i in val.split()]\n",
      "    mlist.append(m)\n",
      "    \n",
      "print \"\\nEnter products sold week_wise \\nS11, S12,----, S21, S22, ---- etc\"\n",
      "for i in range(0,4,1):\n",
      "    val1=raw_input()\n",
      "    s=[int(i) for i in val1.split()]\n",
      "    slist.append(s)\n",
      "cost=raw_input(\"Enter cost of each product\\n\")\n",
      "c=[int(i) for i in cost.split()]\n",
      "print \"\\nFollowing is the list of things you\\ncan request for.Enter appropriate item number\\nand press RETURN key\"\n",
      "print \"1.Value matrices of production & sales\"\n",
      "print \"2.Total value of weekly productin & sales\"\n",
      "print \"3.product_wise monthly value of production & sales\"\n",
      "print \"4.Grand total value of production & sales\"\n",
      "print \"5.Exit\"\n",
      "\n",
      "for j in range(0,4):\n",
      "    for k in range(0,5):\n",
      "        matprod=mlist[j][k]*c[k]\n",
      "        matsales=slist[j][k]*c[k]\n",
      "        mplist.append(matprod)\n",
      "        mslist.append(matsales)\n",
      "        mplist=map(int,mplist)\n",
      "        mslist=map(int,mslist)\n",
      "    \n",
      "k=0\n",
      "item=0\n",
      "while(item<=4):\n",
      "    x1=raw_input(\"Enter your choice: \")\n",
      "    x=int(x1)\n",
      "    if(x==1):\n",
      "        print \"VALUE MATRIX OF PRODUCTION\"\n",
      "        for i in range(0,20,5):\n",
      "            k=k+1\n",
      "            print \"Week(%d) %7d %7d %7d %7d %7d\" %(k,mplist[i],mplist[i+1],mplist[i+2],mplist[i+3],mplist[i+4])\n",
      "        k=0                       \n",
      "        print \"VALUE MATRIX OF SALES\"\n",
      "        for i in range(0,20,5):\n",
      "            k=k+1\n",
      "            print \"Week(%d) %7d %7d %7d %7d %7d\" %(k,mslist[i],mslist[i+1],mslist[i+2],mslist[i+3],mslist[i+4])\n",
      "            \n",
      "    elif(x==3):\n",
      "        print \"PRODUCT_WISE TOTAL PRODUCTION & SALES\"\n",
      "        print \"             PRODUCTION   SALES\\n             __________   _____\"\n",
      "        for i in range(0,5):\n",
      "            m=mplist[i]+mplist[i+5]+mplist[i+10]+mplist[i+15]\n",
      "            s=mslist[i]+mslist[i+5]+mslist[i+10]+mslist[i+15]\n",
      "            totprod=totprod+m\n",
      "            totsales=totsales+s\n",
      "            print \"Product(%d) %10d %10d\" %(i+1,m,s)\n",
      "\n",
      "    elif(x==2):\n",
      "        print \"TOTAL WEEKLY PRODUCTION & SALES\"\n",
      "        print \"             PRODUCTION   SALES\\n             __________   _____\"\n",
      "        k=0\n",
      "        for i in range(0,20,5):\n",
      "            k=k+1\n",
      "            m=mplist[i]+mplist[i+1]+mplist[i+2]+mplist[i+3]+mplist[i+4]\n",
      "            s=mslist[i]+mslist[i+1]+mslist[i+2]+mslist[i+3]+mslist[i+4]           \n",
      "            print \"Week(%d) %10d %10d\" %(k,m,s)\n",
      "            \n",
      "    elif(x==4):\n",
      "        print \"GRAND TOTAL OF PRODUCTION & SALES\"\n",
      "        print \"Total production = %d\\nTotal sales = %d\" %(totprod,totsales)\n",
      "        \n",
      "    else:\n",
      "        print \"G O O D  B Y E\"  \n",
      "        \n",
      "    item=item+1\n",
      "\n",
      "print \"Exit from the program\"\n",
      "   \n"
     ],
     "language": "python",
     "metadata": {},
     "outputs": [
      {
       "output_type": "stream",
       "stream": "stdout",
       "text": [
        "Enter products manufactured week_wise \n",
        "M11, M12,----, M21, M22, ---- etc\n"
       ]
      },
      {
       "name": "stdout",
       "output_type": "stream",
       "stream": "stdout",
       "text": [
        "11 15 12 14 13\n"
       ]
      },
      {
       "name": "stdout",
       "output_type": "stream",
       "stream": "stdout",
       "text": [
        "13 13 14 15 12\n"
       ]
      },
      {
       "name": "stdout",
       "output_type": "stream",
       "stream": "stdout",
       "text": [
        "12 16 10 15 14\n"
       ]
      },
      {
       "name": "stdout",
       "output_type": "stream",
       "stream": "stdout",
       "text": [
        "14 11 15 13 12\n"
       ]
      },
      {
       "output_type": "stream",
       "stream": "stdout",
       "text": [
        "\n",
        "Enter products sold week_wise \n",
        "S11, S12,----, S21, S22, ---- etc\n"
       ]
      },
      {
       "name": "stdout",
       "output_type": "stream",
       "stream": "stdout",
       "text": [
        "10 13 9 12 11\n"
       ]
      },
      {
       "name": "stdout",
       "output_type": "stream",
       "stream": "stdout",
       "text": [
        "12 10 12 14 10\n"
       ]
      },
      {
       "name": "stdout",
       "output_type": "stream",
       "stream": "stdout",
       "text": [
        "11 14 10 14 12\n"
       ]
      },
      {
       "name": "stdout",
       "output_type": "stream",
       "stream": "stdout",
       "text": [
        "12 10 13 11 10\n"
       ]
      },
      {
       "name": "stdout",
       "output_type": "stream",
       "stream": "stdout",
       "text": [
        "Enter cost of each product\n",
        "10 20 30 15 25\n"
       ]
      },
      {
       "output_type": "stream",
       "stream": "stdout",
       "text": [
        "\n",
        "Following is the list of things you\n",
        "can request for.Enter appropriate item number\n",
        "and press RETURN key\n",
        "1.Value matrices of production & sales\n",
        "2.Total value of weekly productin & sales\n",
        "3.product_wise monthly value of production & sales\n",
        "4.Grand total value of production & sales\n",
        "5.Exit\n"
       ]
      },
      {
       "name": "stdout",
       "output_type": "stream",
       "stream": "stdout",
       "text": [
        "Enter your choice: 1\n"
       ]
      },
      {
       "output_type": "stream",
       "stream": "stdout",
       "text": [
        "VALUE MATRIX OF PRODUCTION\n",
        "Week(1)     110     300     360     210     325\n",
        "Week(2)     130     260     420     225     300\n",
        "Week(3)     120     320     300     225     350\n",
        "Week(4)     140     220     450     195     300\n",
        "VALUE MATRIX OF SALES\n",
        "Week(1)     100     260     270     180     275\n",
        "Week(2)     120     200     360     210     250\n",
        "Week(3)     110     280     300     210     300\n",
        "Week(4)     120     200     390     165     250\n"
       ]
      },
      {
       "name": "stdout",
       "output_type": "stream",
       "stream": "stdout",
       "text": [
        "Enter your choice: 2\n"
       ]
      },
      {
       "output_type": "stream",
       "stream": "stdout",
       "text": [
        "TOTAL WEEKLY PRODUCTION & SALES\n",
        "             PRODUCTION   SALES\n",
        "             __________   _____\n",
        "Week(1)       1305       1085\n",
        "Week(2)       1335       1140\n",
        "Week(3)       1315       1200\n",
        "Week(4)       1305       1125\n"
       ]
      },
      {
       "name": "stdout",
       "output_type": "stream",
       "stream": "stdout",
       "text": [
        "Enter your choice: 3\n"
       ]
      },
      {
       "output_type": "stream",
       "stream": "stdout",
       "text": [
        "PRODUCT_WISE TOTAL PRODUCTION & SALES\n",
        "             PRODUCTION   SALES\n",
        "             __________   _____\n",
        "Product(1)        500        450\n",
        "Product(2)       1100        940\n",
        "Product(3)       1530       1320\n",
        "Product(4)        855        765\n",
        "Product(5)       1275       1075\n"
       ]
      },
      {
       "name": "stdout",
       "output_type": "stream",
       "stream": "stdout",
       "text": [
        "Enter your choice: 4\n"
       ]
      },
      {
       "output_type": "stream",
       "stream": "stdout",
       "text": [
        "GRAND TOTAL OF PRODUCTION & SALES\n",
        "Total production = 5260\n",
        "Total sales = 4550\n"
       ]
      },
      {
       "name": "stdout",
       "output_type": "stream",
       "stream": "stdout",
       "text": [
        "Enter your choice: 5\n"
       ]
      },
      {
       "output_type": "stream",
       "stream": "stdout",
       "text": [
        "G O O D  B Y E\n",
        "Exit from the program\n"
       ]
      }
     ],
     "prompt_number": 6
    }
   ],
   "metadata": {}
  }
 ]
}