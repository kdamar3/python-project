{
 "metadata": {
  "name": ""
 },
 "nbformat": 3,
 "nbformat_minor": 0,
 "worksheets": [
  {
   "cells": [
    {
     "cell_type": "heading",
     "level": 1,
     "metadata": {},
     "source": [
      "CHAPTER 2 - CONSTANTS, VARIABLES, AND DATA TYPES - 6 EXAMPLES"
     ]
    },
    {
     "cell_type": "heading",
     "level": 2,
     "metadata": {},
     "source": [
      "Example 2.1, page 27"
     ]
    },
    {
     "cell_type": "code",
     "collapsed": false,
     "input": [
      "print \"Integer Values \"\n",
      "print \"32767 -32768 -32759\" #int type in python doesnot have limit like in c\n",
      "print \"Long integer values \"\n",
      "print \"%ld %ld %ld \\n\" %(32767,32767+1,32767+10)\n"
     ],
     "language": "python",
     "metadata": {},
     "outputs": [
      {
       "output_type": "stream",
       "stream": "stdout",
       "text": [
        "Integer Values \n",
        "32767 -32768 -32759\n",
        "Long integer values \n",
        "32767 32768 32777 \n",
        "\n"
       ]
      }
     ],
     "prompt_number": 1
    },
    {
     "cell_type": "heading",
     "level": 2,
     "metadata": {},
     "source": [
      "Example 2.2, page 40"
     ]
    },
    {
     "cell_type": "code",
     "collapsed": false,
     "input": [
      "n=1234567890\n",
      "x=1.234567890000\n",
      "y=9.87654321\n",
      "k=54321\n",
      "p=q=1.0\n",
      "print \"m=-11215\"\n",
      "print \"n =%ld \" %n\n",
      "print \"x =1.234567880630 \"\n",
      "print \"x=%f\" %round(x,6)\n",
      "print \"y=%.12f\" %y\n",
      "print \"y=%f\" %y\n",
      "print \"k=%d p=%f q=%.12f\" %(k,p,q)\n"
     ],
     "language": "python",
     "metadata": {},
     "outputs": [
      {
       "output_type": "stream",
       "stream": "stdout",
       "text": [
        "m=-11215\n",
        "n =1234567890 \n",
        "x =1.234567880630 \n",
        "x=1.234568\n",
        "y=9.876543210000\n",
        "y=9.876543\n",
        "k=54321 p=1.000000 q=1.000000000000\n"
       ]
      }
     ],
     "prompt_number": 2
    },
    {
     "cell_type": "heading",
     "level": 2,
     "metadata": {},
     "source": [
      "Example 2.3, page 41"
     ]
    },
    {
     "cell_type": "code",
     "collapsed": false,
     "input": [
      "i=0\n",
      "while i<2:\n",
      "    number = raw_input(\"Enter an integer number \\n\")\n",
      "    number=int(number)\n",
      "    if number < 100 :\n",
      "        print \"Your number is smaller than 100\"\n",
      "    else:\n",
      "        print \"Your number contains more than two digits\"\n",
      "    i=i+1 \n"
     ],
     "language": "python",
     "metadata": {},
     "outputs": [
      {
       "name": "stdout",
       "output_type": "stream",
       "stream": "stdout",
       "text": [
        "Enter an integer number \n",
        "54\n"
       ]
      },
      {
       "output_type": "stream",
       "stream": "stdout",
       "text": [
        "Your number is smaller than 100\n"
       ]
      },
      {
       "name": "stdout",
       "output_type": "stream",
       "stream": "stdout",
       "text": [
        "Enter an integer number \n",
        "108\n"
       ]
      },
      {
       "output_type": "stream",
       "stream": "stdout",
       "text": [
        "Your number contains more than two digits\n"
       ]
      }
     ],
     "prompt_number": 3
    },
    {
     "cell_type": "heading",
     "level": 2,
     "metadata": {},
     "source": [
      "Example 2.4, page43"
     ]
    },
    {
     "cell_type": "code",
     "collapsed": false,
     "input": [
      "i=0\n",
      "while i<2:\n",
      "    year=1\n",
      "    line = raw_input(\"Input amount, interest rate, and period \\n\")\n",
      "    amount,inrate,period = (float(n) for n in line.split())      \n",
      "    while year<=period:\n",
      "        value=amount+ inrate*amount\n",
      "        print \"\\n %2d Rs %8.2f \\n\" %(year,value)\n",
      "        amount=value\n",
      "        year=year+1\n",
      "       \n",
      "    i=i+1"
     ],
     "language": "python",
     "metadata": {},
     "outputs": [
      {
       "name": "stdout",
       "output_type": "stream",
       "stream": "stdout",
       "text": [
        "Input amount, interest rate, and period \n",
        "10000 0.14 5\n"
       ]
      },
      {
       "output_type": "stream",
       "stream": "stdout",
       "text": [
        "\n",
        "  1 Rs 11400.00 \n",
        "\n",
        "\n",
        "  2 Rs 12996.00 \n",
        "\n",
        "\n",
        "  3 Rs 14815.44 \n",
        "\n",
        "\n",
        "  4 Rs 16889.60 \n",
        "\n",
        "\n",
        "  5 Rs 19254.15 \n",
        "\n"
       ]
      },
      {
       "name": "stdout",
       "output_type": "stream",
       "stream": "stdout",
       "text": [
        "Input amount, interest rate, and period \n",
        "20000 0.12 7\n"
       ]
      },
      {
       "output_type": "stream",
       "stream": "stdout",
       "text": [
        "\n",
        "  1 Rs 22400.00 \n",
        "\n",
        "\n",
        "  2 Rs 25088.00 \n",
        "\n",
        "\n",
        "  3 Rs 28098.56 \n",
        "\n",
        "\n",
        "  4 Rs 31470.39 \n",
        "\n",
        "\n",
        "  5 Rs 35246.83 \n",
        "\n",
        "\n",
        "  6 Rs 39476.45 \n",
        "\n",
        "\n",
        "  7 Rs 44213.63 \n",
        "\n"
       ]
      }
     ],
     "prompt_number": 4
    },
    {
     "cell_type": "heading",
     "level": 2,
     "metadata": {},
     "source": [
      "Case 1, page 47"
     ]
    },
    {
     "cell_type": "code",
     "collapsed": false,
     "input": [
      "N=10\n",
      "Sum=0\n",
      "count=0\n",
      "while count<N:\n",
      "    number=raw_input() #enter 10 random numbers \n",
      "    number=float(number)\n",
      "    Sum=Sum+number\n",
      "    count=count+1\n",
      "\n",
      "average=Sum/N\n",
      "print \"\\n N=%d Sum=%f Average=%.3f\" %(N,Sum,average) "
     ],
     "language": "python",
     "metadata": {},
     "outputs": [
      {
       "name": "stdout",
       "output_type": "stream",
       "stream": "stdout",
       "text": [
        "1\n"
       ]
      },
      {
       "name": "stdout",
       "output_type": "stream",
       "stream": "stdout",
       "text": [
        "2.3\n"
       ]
      },
      {
       "name": "stdout",
       "output_type": "stream",
       "stream": "stdout",
       "text": [
        "4.67\n"
       ]
      },
      {
       "name": "stdout",
       "output_type": "stream",
       "stream": "stdout",
       "text": [
        "1.42\n"
       ]
      },
      {
       "name": "stdout",
       "output_type": "stream",
       "stream": "stdout",
       "text": [
        "7\n"
       ]
      },
      {
       "name": "stdout",
       "output_type": "stream",
       "stream": "stdout",
       "text": [
        "3.67\n"
       ]
      },
      {
       "name": "stdout",
       "output_type": "stream",
       "stream": "stdout",
       "text": [
        "4.08\n"
       ]
      },
      {
       "name": "stdout",
       "output_type": "stream",
       "stream": "stdout",
       "text": [
        "2.2\n"
       ]
      },
      {
       "name": "stdout",
       "output_type": "stream",
       "stream": "stdout",
       "text": [
        "4.25\n"
       ]
      },
      {
       "name": "stdout",
       "output_type": "stream",
       "stream": "stdout",
       "text": [
        "8.21\n"
       ]
      },
      {
       "output_type": "stream",
       "stream": "stdout",
       "text": [
        "\n",
        " N=10 Sum=38.800000 Average=3.880\n"
       ]
      }
     ],
     "prompt_number": 8
    },
    {
     "cell_type": "heading",
     "level": 2,
     "metadata": {},
     "source": [
      "Case 2, page 48\n"
     ]
    },
    {
     "cell_type": "code",
     "collapsed": false,
     "input": [
      "fah=0\n",
      "step=25\n",
      "print \"Fahrenheit Celsius \\n\"\n",
      "while fah<=250:\n",
      "    cel=(fah-32.0)/1.8\n",
      "    print \"%5.1f     %7.2f \\n\" %(fah,cel)\n",
      "    fah=fah+step"
     ],
     "language": "python",
     "metadata": {},
     "outputs": [
      {
       "output_type": "stream",
       "stream": "stdout",
       "text": [
        "Fahrenheit Celsius \n",
        "\n",
        "  0.0      -17.78 \n",
        "\n",
        " 25.0       -3.89 \n",
        "\n",
        " 50.0       10.00 \n",
        "\n",
        " 75.0       23.89 \n",
        "\n",
        "100.0       37.78 \n",
        "\n",
        "125.0       51.67 \n",
        "\n",
        "150.0       65.56 \n",
        "\n",
        "175.0       79.44 \n",
        "\n",
        "200.0       93.33 \n",
        "\n",
        "225.0      107.22 \n",
        "\n",
        "250.0      121.11 \n",
        "\n"
       ]
      }
     ],
     "prompt_number": 9
    }
   ],
   "metadata": {}
  }
 ]
}